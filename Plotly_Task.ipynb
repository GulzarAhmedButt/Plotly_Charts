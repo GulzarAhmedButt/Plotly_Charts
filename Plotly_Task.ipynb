{
 "cells": [
  {
   "cell_type": "code",
   "execution_count": 125,
   "metadata": {},
   "outputs": [],
   "source": [
    "import pandas as pd\n",
    "import numpy as np\n",
    "import seaborn as sns\n",
    "import datetime as dt\n",
    "import plotly.graph_objects as go\n",
    "import plotly.express as px\n",
    "import chart_studio.tools as tls\n",
    "import plotly.io as pio\n",
    "import chart_studio\n",
    "import chart_studio.plotly as py"
   ]
  },
  {
   "cell_type": "code",
   "execution_count": 96,
   "metadata": {},
   "outputs": [],
   "source": [
    "from plotly.offline import download_plotlyjs,init_notebook_mode,plot,iplot"
   ]
  },
  {
   "cell_type": "code",
   "execution_count": 97,
   "metadata": {},
   "outputs": [
    {
     "data": {
      "text/html": [
       "        <script type=\"text/javascript\">\n",
       "        window.PlotlyConfig = {MathJaxConfig: 'local'};\n",
       "        if (window.MathJax) {MathJax.Hub.Config({SVG: {font: \"STIX-Web\"}});}\n",
       "        if (typeof require !== 'undefined') {\n",
       "        require.undef(\"plotly\");\n",
       "        requirejs.config({\n",
       "            paths: {\n",
       "                'plotly': ['https://cdn.plot.ly/plotly-latest.min']\n",
       "            }\n",
       "        });\n",
       "        require(['plotly'], function(Plotly) {\n",
       "            window._Plotly = Plotly;\n",
       "        });\n",
       "        }\n",
       "        </script>\n",
       "        "
      ]
     },
     "metadata": {},
     "output_type": "display_data"
    }
   ],
   "source": [
    "import cufflinks as cf\n",
    "init_notebook_mode(connected=True)\n",
    "%matplotlib inline"
   ]
  },
  {
   "cell_type": "code",
   "execution_count": 98,
   "metadata": {},
   "outputs": [],
   "source": [
    "time_data = pd.read_csv('time data.csv')\n",
    "call_data = pd.read_csv('call_log_export.csv')"
   ]
  },
  {
   "cell_type": "code",
   "execution_count": 99,
   "metadata": {},
   "outputs": [],
   "source": [
    "calender_data = pd.read_csv('calendar data.csv')"
   ]
  },
  {
   "cell_type": "code",
   "execution_count": 100,
   "metadata": {},
   "outputs": [],
   "source": [
    "calender_data['Days in Week'] = calender_data['Days in Week'].astype('category')"
   ]
  },
  {
   "cell_type": "code",
   "execution_count": 101,
   "metadata": {},
   "outputs": [],
   "source": [
    "dicti = {'Day':calender_data['Days in Week'],'Time':time_data['Hour'],'call_id':call_data['call_id']}"
   ]
  },
  {
   "cell_type": "code",
   "execution_count": 102,
   "metadata": {},
   "outputs": [
    {
     "data": {
      "text/html": [
       "<div>\n",
       "<style scoped>\n",
       "    .dataframe tbody tr th:only-of-type {\n",
       "        vertical-align: middle;\n",
       "    }\n",
       "\n",
       "    .dataframe tbody tr th {\n",
       "        vertical-align: top;\n",
       "    }\n",
       "\n",
       "    .dataframe thead th {\n",
       "        text-align: right;\n",
       "    }\n",
       "</style>\n",
       "<table border=\"1\" class=\"dataframe\">\n",
       "  <thead>\n",
       "    <tr style=\"text-align: right;\">\n",
       "      <th></th>\n",
       "      <th>Day</th>\n",
       "      <th>Time</th>\n",
       "      <th>call_id</th>\n",
       "    </tr>\n",
       "  </thead>\n",
       "  <tbody>\n",
       "    <tr>\n",
       "      <th>0</th>\n",
       "      <td>Mon</td>\n",
       "      <td>1.0</td>\n",
       "      <td>1</td>\n",
       "    </tr>\n",
       "    <tr>\n",
       "      <th>1</th>\n",
       "      <td>Tue</td>\n",
       "      <td>13.0</td>\n",
       "      <td>2</td>\n",
       "    </tr>\n",
       "    <tr>\n",
       "      <th>2</th>\n",
       "      <td>Wed</td>\n",
       "      <td>1.0</td>\n",
       "      <td>3</td>\n",
       "    </tr>\n",
       "    <tr>\n",
       "      <th>3</th>\n",
       "      <td>Thu</td>\n",
       "      <td>13.0</td>\n",
       "      <td>4</td>\n",
       "    </tr>\n",
       "    <tr>\n",
       "      <th>4</th>\n",
       "      <td>Fri</td>\n",
       "      <td>1.0</td>\n",
       "      <td>5</td>\n",
       "    </tr>\n",
       "    <tr>\n",
       "      <th>...</th>\n",
       "      <td>...</td>\n",
       "      <td>...</td>\n",
       "      <td>...</td>\n",
       "    </tr>\n",
       "    <tr>\n",
       "      <th>9780</th>\n",
       "      <td>NaN</td>\n",
       "      <td>NaN</td>\n",
       "      <td>9781</td>\n",
       "    </tr>\n",
       "    <tr>\n",
       "      <th>9781</th>\n",
       "      <td>NaN</td>\n",
       "      <td>NaN</td>\n",
       "      <td>9782</td>\n",
       "    </tr>\n",
       "    <tr>\n",
       "      <th>9782</th>\n",
       "      <td>NaN</td>\n",
       "      <td>NaN</td>\n",
       "      <td>9783</td>\n",
       "    </tr>\n",
       "    <tr>\n",
       "      <th>9783</th>\n",
       "      <td>NaN</td>\n",
       "      <td>NaN</td>\n",
       "      <td>9784</td>\n",
       "    </tr>\n",
       "    <tr>\n",
       "      <th>9784</th>\n",
       "      <td>NaN</td>\n",
       "      <td>NaN</td>\n",
       "      <td>9785</td>\n",
       "    </tr>\n",
       "  </tbody>\n",
       "</table>\n",
       "<p>9785 rows × 3 columns</p>\n",
       "</div>"
      ],
      "text/plain": [
       "      Day  Time  call_id\n",
       "0     Mon   1.0        1\n",
       "1     Tue  13.0        2\n",
       "2     Wed   1.0        3\n",
       "3     Thu  13.0        4\n",
       "4     Fri   1.0        5\n",
       "...   ...   ...      ...\n",
       "9780  NaN   NaN     9781\n",
       "9781  NaN   NaN     9782\n",
       "9782  NaN   NaN     9783\n",
       "9783  NaN   NaN     9784\n",
       "9784  NaN   NaN     9785\n",
       "\n",
       "[9785 rows x 3 columns]"
      ]
     },
     "execution_count": 102,
     "metadata": {},
     "output_type": "execute_result"
    }
   ],
   "source": [
    "dataset = pd.DataFrame(data=dicti)\n",
    "dataset"
   ]
  },
  {
   "cell_type": "code",
   "execution_count": 103,
   "metadata": {},
   "outputs": [],
   "source": [
    "dataset_new = dataset.drop(dataset.index[1440:])"
   ]
  },
  {
   "cell_type": "code",
   "execution_count": 104,
   "metadata": {},
   "outputs": [],
   "source": [
    "dataset_new['Time']=dataset_new['Time'].astype(int)"
   ]
  },
  {
   "cell_type": "code",
   "execution_count": 105,
   "metadata": {},
   "outputs": [
    {
     "data": {
      "text/html": [
       "<div>\n",
       "<style scoped>\n",
       "    .dataframe tbody tr th:only-of-type {\n",
       "        vertical-align: middle;\n",
       "    }\n",
       "\n",
       "    .dataframe tbody tr th {\n",
       "        vertical-align: top;\n",
       "    }\n",
       "\n",
       "    .dataframe thead th {\n",
       "        text-align: right;\n",
       "    }\n",
       "</style>\n",
       "<table border=\"1\" class=\"dataframe\">\n",
       "  <thead>\n",
       "    <tr style=\"text-align: right;\">\n",
       "      <th></th>\n",
       "      <th>Day</th>\n",
       "      <th>Time</th>\n",
       "      <th>call_id</th>\n",
       "    </tr>\n",
       "  </thead>\n",
       "  <tbody>\n",
       "    <tr>\n",
       "      <th>1398</th>\n",
       "      <td>Sat</td>\n",
       "      <td>0</td>\n",
       "      <td>1399</td>\n",
       "    </tr>\n",
       "    <tr>\n",
       "      <th>1336</th>\n",
       "      <td>Sun</td>\n",
       "      <td>0</td>\n",
       "      <td>1337</td>\n",
       "    </tr>\n",
       "    <tr>\n",
       "      <th>1386</th>\n",
       "      <td>Mon</td>\n",
       "      <td>0</td>\n",
       "      <td>1387</td>\n",
       "    </tr>\n",
       "    <tr>\n",
       "      <th>1388</th>\n",
       "      <td>Wed</td>\n",
       "      <td>0</td>\n",
       "      <td>1389</td>\n",
       "    </tr>\n",
       "    <tr>\n",
       "      <th>1390</th>\n",
       "      <td>Fri</td>\n",
       "      <td>0</td>\n",
       "      <td>1391</td>\n",
       "    </tr>\n",
       "    <tr>\n",
       "      <th>...</th>\n",
       "      <td>...</td>\n",
       "      <td>...</td>\n",
       "      <td>...</td>\n",
       "    </tr>\n",
       "    <tr>\n",
       "      <th>1251</th>\n",
       "      <td>Sat</td>\n",
       "      <td>23</td>\n",
       "      <td>1252</td>\n",
       "    </tr>\n",
       "    <tr>\n",
       "      <th>1253</th>\n",
       "      <td>Mon</td>\n",
       "      <td>23</td>\n",
       "      <td>1254</td>\n",
       "    </tr>\n",
       "    <tr>\n",
       "      <th>1255</th>\n",
       "      <td>Wed</td>\n",
       "      <td>23</td>\n",
       "      <td>1256</td>\n",
       "    </tr>\n",
       "    <tr>\n",
       "      <th>1231</th>\n",
       "      <td>Sun</td>\n",
       "      <td>23</td>\n",
       "      <td>1232</td>\n",
       "    </tr>\n",
       "    <tr>\n",
       "      <th>1201</th>\n",
       "      <td>Fri</td>\n",
       "      <td>23</td>\n",
       "      <td>1202</td>\n",
       "    </tr>\n",
       "  </tbody>\n",
       "</table>\n",
       "<p>1440 rows × 3 columns</p>\n",
       "</div>"
      ],
      "text/plain": [
       "      Day  Time  call_id\n",
       "1398  Sat     0     1399\n",
       "1336  Sun     0     1337\n",
       "1386  Mon     0     1387\n",
       "1388  Wed     0     1389\n",
       "1390  Fri     0     1391\n",
       "...   ...   ...      ...\n",
       "1251  Sat    23     1252\n",
       "1253  Mon    23     1254\n",
       "1255  Wed    23     1256\n",
       "1231  Sun    23     1232\n",
       "1201  Fri    23     1202\n",
       "\n",
       "[1440 rows x 3 columns]"
      ]
     },
     "execution_count": 105,
     "metadata": {},
     "output_type": "execute_result"
    }
   ],
   "source": [
    "data = dataset_new.sort_values('Time',ascending=True)\n",
    "data"
   ]
  },
  {
   "cell_type": "code",
   "execution_count": 106,
   "metadata": {},
   "outputs": [
    {
     "data": {
      "text/html": [
       "<div>\n",
       "<style scoped>\n",
       "    .dataframe tbody tr th:only-of-type {\n",
       "        vertical-align: middle;\n",
       "    }\n",
       "\n",
       "    .dataframe tbody tr th {\n",
       "        vertical-align: top;\n",
       "    }\n",
       "\n",
       "    .dataframe thead th {\n",
       "        text-align: right;\n",
       "    }\n",
       "</style>\n",
       "<table border=\"1\" class=\"dataframe\">\n",
       "  <thead>\n",
       "    <tr style=\"text-align: right;\">\n",
       "      <th></th>\n",
       "      <th>Day</th>\n",
       "      <th>Time</th>\n",
       "      <th>call_id</th>\n",
       "    </tr>\n",
       "  </thead>\n",
       "  <tbody>\n",
       "    <tr>\n",
       "      <th>826</th>\n",
       "      <td>Mon</td>\n",
       "      <td>7</td>\n",
       "      <td>827</td>\n",
       "    </tr>\n",
       "    <tr>\n",
       "      <th>734</th>\n",
       "      <td>Sun</td>\n",
       "      <td>7</td>\n",
       "      <td>735</td>\n",
       "    </tr>\n",
       "    <tr>\n",
       "      <th>746</th>\n",
       "      <td>Fri</td>\n",
       "      <td>7</td>\n",
       "      <td>747</td>\n",
       "    </tr>\n",
       "    <tr>\n",
       "      <th>732</th>\n",
       "      <td>Fri</td>\n",
       "      <td>7</td>\n",
       "      <td>733</td>\n",
       "    </tr>\n",
       "    <tr>\n",
       "      <th>738</th>\n",
       "      <td>Thu</td>\n",
       "      <td>7</td>\n",
       "      <td>739</td>\n",
       "    </tr>\n",
       "    <tr>\n",
       "      <th>...</th>\n",
       "      <td>...</td>\n",
       "      <td>...</td>\n",
       "      <td>...</td>\n",
       "    </tr>\n",
       "    <tr>\n",
       "      <th>651</th>\n",
       "      <td>Mon</td>\n",
       "      <td>18</td>\n",
       "      <td>652</td>\n",
       "    </tr>\n",
       "    <tr>\n",
       "      <th>653</th>\n",
       "      <td>Wed</td>\n",
       "      <td>18</td>\n",
       "      <td>654</td>\n",
       "    </tr>\n",
       "    <tr>\n",
       "      <th>655</th>\n",
       "      <td>Fri</td>\n",
       "      <td>18</td>\n",
       "      <td>656</td>\n",
       "    </tr>\n",
       "    <tr>\n",
       "      <th>659</th>\n",
       "      <td>Tue</td>\n",
       "      <td>18</td>\n",
       "      <td>660</td>\n",
       "    </tr>\n",
       "    <tr>\n",
       "      <th>719</th>\n",
       "      <td>Sat</td>\n",
       "      <td>18</td>\n",
       "      <td>720</td>\n",
       "    </tr>\n",
       "  </tbody>\n",
       "</table>\n",
       "<p>720 rows × 3 columns</p>\n",
       "</div>"
      ],
      "text/plain": [
       "     Day  Time  call_id\n",
       "826  Mon     7      827\n",
       "734  Sun     7      735\n",
       "746  Fri     7      747\n",
       "732  Fri     7      733\n",
       "738  Thu     7      739\n",
       "..   ...   ...      ...\n",
       "651  Mon    18      652\n",
       "653  Wed    18      654\n",
       "655  Fri    18      656\n",
       "659  Tue    18      660\n",
       "719  Sat    18      720\n",
       "\n",
       "[720 rows x 3 columns]"
      ]
     },
     "execution_count": 106,
     "metadata": {},
     "output_type": "execute_result"
    }
   ],
   "source": [
    "final_data = data[(data['Time']>6) & (data['Time']<19)]\n",
    "final_data"
   ]
  },
  {
   "cell_type": "code",
   "execution_count": 107,
   "metadata": {},
   "outputs": [
    {
     "data": {
      "text/plain": [
       "Day        category\n",
       "Time          int32\n",
       "call_id       int64\n",
       "dtype: object"
      ]
     },
     "execution_count": 107,
     "metadata": {},
     "output_type": "execute_result"
    }
   ],
   "source": [
    "final_data.dtypes"
   ]
  },
  {
   "cell_type": "code",
   "execution_count": 108,
   "metadata": {
    "scrolled": false
   },
   "outputs": [
    {
     "data": {
      "application/vnd.plotly.v1+json": {
       "config": {
        "plotlyServerURL": "https://plot.ly"
       },
       "data": [
        {
         "marker": {
          "size": [
           827,
           735,
           747,
           733,
           739,
           729,
           825,
           745,
           731,
           813,
           743,
           815,
           823,
           829,
           817,
           819,
           741,
           737,
           793,
           811,
           795,
           837,
           765,
           767,
           721,
           791,
           769,
           763,
           789,
           787,
           773,
           785,
           775,
           783,
           777,
           839,
           771,
           831,
           797,
           761,
           749,
           727,
           809,
           751,
           807,
           833,
           753,
           723,
           805,
           725,
           803,
           757,
           801,
           835,
           759,
           799,
           755,
           821,
           779,
           781,
           957,
           877,
           921,
           935,
           881,
           883,
           933,
           885,
           887,
           931,
           889,
           891,
           929,
           893,
           895,
           897,
           899,
           955,
           901,
           927,
           903,
           905,
           907,
           909,
           925,
           911,
           913,
           923,
           915,
           917,
           937,
           875,
           879,
           919,
           949,
           853,
           951,
           855,
           947,
           873,
           857,
           847,
           859,
           945,
           845,
           851,
           861,
           941,
           939,
           871,
           841,
           869,
           863,
           867,
           849,
           843,
           865,
           943,
           953,
           959,
           961,
           991,
           995,
           993,
           975,
           989,
           965,
           987,
           985,
           967,
           983,
           969,
           981,
           971,
           979,
           977,
           973,
           963,
           1079,
           1077,
           999,
           1045,
           1047,
           1049,
           1051,
           1053,
           1055,
           1057,
           1043,
           1059,
           1063,
           1065,
           1067,
           1069,
           1071,
           1073,
           1075,
           1061,
           1041,
           1039,
           1037,
           1001,
           1003,
           1005,
           1007,
           1009,
           1011,
           1013,
           1015,
           1019,
           1021,
           1023,
           1025,
           1027,
           1029,
           1031,
           1033,
           1035,
           997,
           1017,
           1167,
           1199,
           1123,
           1125,
           1127,
           1129,
           1131,
           1133,
           1135,
           1137,
           1139,
           1141,
           1143,
           1145,
           1147,
           1149,
           1151,
           1121,
           1119,
           1117,
           1115,
           1081,
           1083,
           1085,
           1087,
           1089,
           1091,
           1093,
           1153,
           1095,
           1099,
           1101,
           1103,
           1105,
           1109,
           1111,
           1113,
           1097,
           1155,
           1107,
           1195,
           1191,
           1173,
           1183,
           1171,
           1177,
           1169,
           1193,
           1165,
           1187,
           1189,
           1157,
           1179,
           1161,
           1197,
           1181,
           1159,
           1185,
           1163,
           1175,
           1293,
           1215,
           1291,
           1295,
           1213,
           1201,
           1289,
           1297,
           1303,
           1211,
           1301,
           1209,
           1305,
           1307,
           1207,
           1309,
           1311,
           1205,
           1313,
           1315,
           1203,
           1317,
           1319,
           1299,
           1287,
           1241,
           1285,
           1231,
           1257,
           1255,
           1233,
           1253,
           1251,
           1259,
           1235,
           1247,
           1237,
           1245,
           1243,
           1239,
           1217,
           1249,
           1261,
           1229,
           1265,
           1263,
           1281,
           1279,
           1221,
           1277,
           1275,
           1219,
           1273,
           1227,
           1223,
           1267,
           1283,
           1225,
           1271,
           1269,
           1410,
           1388,
           1390,
           1392,
           1396,
           1398,
           1400,
           1402,
           1404,
           1406,
           1408,
           1394,
           1424,
           1414,
           1416,
           1418,
           1420,
           1422,
           1386,
           1426,
           1428,
           1430,
           1432,
           1434,
           1436,
           1438,
           1412,
           1384,
           1368,
           1380,
           1322,
           1324,
           1326,
           1328,
           1330,
           1332,
           1334,
           1336,
           1338,
           1340,
           1342,
           1344,
           1346,
           1348,
           1352,
           1354,
           1356,
           1358,
           1360,
           1362,
           1364,
           1366,
           1370,
           1372,
           1374,
           1376,
           1378,
           1382,
           1350,
           1440,
           98,
           64,
           66,
           68,
           70,
           72,
           74,
           76,
           80,
           82,
           84,
           86,
           88,
           90,
           92,
           94,
           96,
           100,
           102,
           104,
           106,
           108,
           110,
           112,
           114,
           116,
           118,
           120,
           62,
           60,
           78,
           56,
           2,
           4,
           6,
           8,
           10,
           12,
           58,
           16,
           18,
           20,
           22,
           24,
           26,
           28,
           14,
           32,
           54,
           30,
           52,
           50,
           46,
           44,
           48,
           40,
           38,
           36,
           34,
           42,
           192,
           182,
           190,
           188,
           194,
           186,
           184,
           180,
           168,
           176,
           174,
           172,
           170,
           166,
           164,
           196,
           162,
           178,
           198,
           236,
           202,
           160,
           234,
           228,
           226,
           224,
           238,
           222,
           220,
           240,
           218,
           216,
           214,
           212,
           210,
           208,
           206,
           204,
           200,
           158,
           144,
           156,
           122,
           124,
           126,
           128,
           130,
           132,
           134,
           136,
           140,
           142,
           230,
           146,
           148,
           138,
           232,
           152,
           150,
           154,
           342,
           316,
           246,
           284,
           344,
           268,
           244,
           304,
           346,
           242,
           286,
           348,
           320,
           302,
           272,
           350,
           288,
           270,
           300,
           352,
           290,
           354,
           298,
           292,
           306,
           248,
           326,
           340,
           264,
           262,
           276,
           328,
           260,
           312,
           330,
           324,
           258,
           278,
           332,
           274,
           256,
           310,
           334,
           266,
           254,
           280,
           336,
           318,
           252,
           308,
           338,
           250,
           282,
           314,
           322,
           294,
           296,
           358,
           360,
           356,
           478,
           434,
           398,
           436,
           396,
           438,
           440,
           392,
           442,
           390,
           444,
           394,
           400,
           402,
           430,
           404,
           428,
           406,
           426,
           408,
           424,
           410,
           422,
           412,
           420,
           414,
           432,
           388,
           448,
           386,
           476,
           480,
           474,
           472,
           362,
           470,
           364,
           468,
           366,
           466,
           368,
           464,
           446,
           370,
           372,
           460,
           374,
           458,
           376,
           456,
           378,
           454,
           380,
           452,
           382,
           450,
           462,
           384,
           416,
           418,
           540,
           504,
           574,
           502,
           576,
           500,
           578,
           498,
           580,
           496,
           582,
           494,
           492,
           586,
           490,
           588,
           488,
           590,
           486,
           592,
           484,
           594,
           482,
           596,
           598,
           600,
           538,
           572,
           506,
           584,
           508,
           570,
           542,
           534,
           544,
           532,
           546,
           530,
           548,
           528,
           550,
           526,
           552,
           524,
           554,
           536,
           556,
           522,
           510,
           566,
           512,
           564,
           514,
           568,
           516,
           560,
           518,
           558,
           520,
           562,
           686,
           684,
           682,
           666,
           680,
           674,
           676,
           672,
           670,
           668,
           688,
           678,
           690,
           704,
           694,
           696,
           698,
           700,
           702,
           706,
           708,
           710,
           712,
           714,
           716,
           718,
           664,
           692,
           662,
           602,
           658,
           604,
           606,
           608,
           610,
           612,
           614,
           616,
           618,
           620,
           622,
           624,
           626,
           628,
           630,
           632,
           634,
           636,
           638,
           640,
           642,
           644,
           646,
           648,
           650,
           652,
           654,
           656,
           660,
           720
          ],
          "sizemin": 4,
          "sizemode": "area",
          "sizeref": 9.216
         },
         "mode": "markers",
         "type": "scatter",
         "x": [
          7,
          7,
          7,
          7,
          7,
          7,
          7,
          7,
          7,
          7,
          7,
          7,
          7,
          7,
          7,
          7,
          7,
          7,
          7,
          7,
          7,
          7,
          7,
          7,
          7,
          7,
          7,
          7,
          7,
          7,
          7,
          7,
          7,
          7,
          7,
          7,
          7,
          7,
          7,
          7,
          7,
          7,
          7,
          7,
          7,
          7,
          7,
          7,
          7,
          7,
          7,
          7,
          7,
          7,
          7,
          7,
          7,
          7,
          7,
          7,
          8,
          8,
          8,
          8,
          8,
          8,
          8,
          8,
          8,
          8,
          8,
          8,
          8,
          8,
          8,
          8,
          8,
          8,
          8,
          8,
          8,
          8,
          8,
          8,
          8,
          8,
          8,
          8,
          8,
          8,
          8,
          8,
          8,
          8,
          8,
          8,
          8,
          8,
          8,
          8,
          8,
          8,
          8,
          8,
          8,
          8,
          8,
          8,
          8,
          8,
          8,
          8,
          8,
          8,
          8,
          8,
          8,
          8,
          8,
          8,
          9,
          9,
          9,
          9,
          9,
          9,
          9,
          9,
          9,
          9,
          9,
          9,
          9,
          9,
          9,
          9,
          9,
          9,
          9,
          9,
          9,
          9,
          9,
          9,
          9,
          9,
          9,
          9,
          9,
          9,
          9,
          9,
          9,
          9,
          9,
          9,
          9,
          9,
          9,
          9,
          9,
          9,
          9,
          9,
          9,
          9,
          9,
          9,
          9,
          9,
          9,
          9,
          9,
          9,
          9,
          9,
          9,
          9,
          9,
          9,
          10,
          10,
          10,
          10,
          10,
          10,
          10,
          10,
          10,
          10,
          10,
          10,
          10,
          10,
          10,
          10,
          10,
          10,
          10,
          10,
          10,
          10,
          10,
          10,
          10,
          10,
          10,
          10,
          10,
          10,
          10,
          10,
          10,
          10,
          10,
          10,
          10,
          10,
          10,
          10,
          10,
          10,
          10,
          10,
          10,
          10,
          10,
          10,
          10,
          10,
          10,
          10,
          10,
          10,
          10,
          10,
          10,
          10,
          10,
          10,
          11,
          11,
          11,
          11,
          11,
          11,
          11,
          11,
          11,
          11,
          11,
          11,
          11,
          11,
          11,
          11,
          11,
          11,
          11,
          11,
          11,
          11,
          11,
          11,
          11,
          11,
          11,
          11,
          11,
          11,
          11,
          11,
          11,
          11,
          11,
          11,
          11,
          11,
          11,
          11,
          11,
          11,
          11,
          11,
          11,
          11,
          11,
          11,
          11,
          11,
          11,
          11,
          11,
          11,
          11,
          11,
          11,
          11,
          11,
          11,
          12,
          12,
          12,
          12,
          12,
          12,
          12,
          12,
          12,
          12,
          12,
          12,
          12,
          12,
          12,
          12,
          12,
          12,
          12,
          12,
          12,
          12,
          12,
          12,
          12,
          12,
          12,
          12,
          12,
          12,
          12,
          12,
          12,
          12,
          12,
          12,
          12,
          12,
          12,
          12,
          12,
          12,
          12,
          12,
          12,
          12,
          12,
          12,
          12,
          12,
          12,
          12,
          12,
          12,
          12,
          12,
          12,
          12,
          12,
          12,
          13,
          13,
          13,
          13,
          13,
          13,
          13,
          13,
          13,
          13,
          13,
          13,
          13,
          13,
          13,
          13,
          13,
          13,
          13,
          13,
          13,
          13,
          13,
          13,
          13,
          13,
          13,
          13,
          13,
          13,
          13,
          13,
          13,
          13,
          13,
          13,
          13,
          13,
          13,
          13,
          13,
          13,
          13,
          13,
          13,
          13,
          13,
          13,
          13,
          13,
          13,
          13,
          13,
          13,
          13,
          13,
          13,
          13,
          13,
          13,
          14,
          14,
          14,
          14,
          14,
          14,
          14,
          14,
          14,
          14,
          14,
          14,
          14,
          14,
          14,
          14,
          14,
          14,
          14,
          14,
          14,
          14,
          14,
          14,
          14,
          14,
          14,
          14,
          14,
          14,
          14,
          14,
          14,
          14,
          14,
          14,
          14,
          14,
          14,
          14,
          14,
          14,
          14,
          14,
          14,
          14,
          14,
          14,
          14,
          14,
          14,
          14,
          14,
          14,
          14,
          14,
          14,
          14,
          14,
          14,
          15,
          15,
          15,
          15,
          15,
          15,
          15,
          15,
          15,
          15,
          15,
          15,
          15,
          15,
          15,
          15,
          15,
          15,
          15,
          15,
          15,
          15,
          15,
          15,
          15,
          15,
          15,
          15,
          15,
          15,
          15,
          15,
          15,
          15,
          15,
          15,
          15,
          15,
          15,
          15,
          15,
          15,
          15,
          15,
          15,
          15,
          15,
          15,
          15,
          15,
          15,
          15,
          15,
          15,
          15,
          15,
          15,
          15,
          15,
          15,
          16,
          16,
          16,
          16,
          16,
          16,
          16,
          16,
          16,
          16,
          16,
          16,
          16,
          16,
          16,
          16,
          16,
          16,
          16,
          16,
          16,
          16,
          16,
          16,
          16,
          16,
          16,
          16,
          16,
          16,
          16,
          16,
          16,
          16,
          16,
          16,
          16,
          16,
          16,
          16,
          16,
          16,
          16,
          16,
          16,
          16,
          16,
          16,
          16,
          16,
          16,
          16,
          16,
          16,
          16,
          16,
          16,
          16,
          16,
          16,
          17,
          17,
          17,
          17,
          17,
          17,
          17,
          17,
          17,
          17,
          17,
          17,
          17,
          17,
          17,
          17,
          17,
          17,
          17,
          17,
          17,
          17,
          17,
          17,
          17,
          17,
          17,
          17,
          17,
          17,
          17,
          17,
          17,
          17,
          17,
          17,
          17,
          17,
          17,
          17,
          17,
          17,
          17,
          17,
          17,
          17,
          17,
          17,
          17,
          17,
          17,
          17,
          17,
          17,
          17,
          17,
          17,
          17,
          17,
          17,
          18,
          18,
          18,
          18,
          18,
          18,
          18,
          18,
          18,
          18,
          18,
          18,
          18,
          18,
          18,
          18,
          18,
          18,
          18,
          18,
          18,
          18,
          18,
          18,
          18,
          18,
          18,
          18,
          18,
          18,
          18,
          18,
          18,
          18,
          18,
          18,
          18,
          18,
          18,
          18,
          18,
          18,
          18,
          18,
          18,
          18,
          18,
          18,
          18,
          18,
          18,
          18,
          18,
          18,
          18,
          18,
          18,
          18,
          18,
          18
         ],
         "y": [
          "Mon",
          "Sun",
          "Fri",
          "Fri",
          "Thu",
          "Mon",
          "Sat",
          "Wed",
          "Wed",
          "Mon",
          "Mon",
          "Wed",
          "Thu",
          "Wed",
          "Fri",
          "Sun",
          "Sat",
          "Tue",
          "Tue",
          "Sat",
          "Thu",
          "Thu",
          "Tue",
          "Thu",
          "Sun",
          "Sun",
          "Sat",
          "Sun",
          "Fri",
          "Wed",
          "Wed",
          "Mon",
          "Fri",
          "Sat",
          "Sun",
          "Sat",
          "Mon",
          "Fri",
          "Sat",
          "Fri",
          "Sun",
          "Sat",
          "Thu",
          "Tue",
          "Tue",
          "Sun",
          "Thu",
          "Tue",
          "Sun",
          "Thu",
          "Fri",
          "Mon",
          "Wed",
          "Tue",
          "Wed",
          "Mon",
          "Sat",
          "Tue",
          "Tue",
          "Thu",
          "Fri",
          "Tue",
          "Thu",
          "Thu",
          "Sat",
          "Mon",
          "Tue",
          "Wed",
          "Fri",
          "Sun",
          "Sun",
          "Tue",
          "Fri",
          "Thu",
          "Sat",
          "Mon",
          "Wed",
          "Wed",
          "Fri",
          "Wed",
          "Sun",
          "Tue",
          "Thu",
          "Sat",
          "Mon",
          "Mon",
          "Wed",
          "Sat",
          "Fri",
          "Sun",
          "Sat",
          "Sun",
          "Thu",
          "Tue",
          "Thu",
          "Sat",
          "Sat",
          "Mon",
          "Tue",
          "Fri",
          "Wed",
          "Sun",
          "Fri",
          "Sun",
          "Fri",
          "Thu",
          "Sun",
          "Wed",
          "Mon",
          "Wed",
          "Mon",
          "Mon",
          "Tue",
          "Sat",
          "Tue",
          "Wed",
          "Thu",
          "Fri",
          "Mon",
          "Sun",
          "Tue",
          "Thu",
          "Mon",
          "Sat",
          "Tue",
          "Tue",
          "Sat",
          "Sun",
          "Fri",
          "Mon",
          "Wed",
          "Wed",
          "Mon",
          "Fri",
          "Sat",
          "Thu",
          "Sun",
          "Thu",
          "Mon",
          "Sat",
          "Fri",
          "Tue",
          "Thu",
          "Sat",
          "Mon",
          "Wed",
          "Fri",
          "Sun",
          "Sun",
          "Tue",
          "Sat",
          "Mon",
          "Wed",
          "Fri",
          "Sun",
          "Tue",
          "Thu",
          "Thu",
          "Fri",
          "Wed",
          "Mon",
          "Sun",
          "Tue",
          "Thu",
          "Sat",
          "Mon",
          "Wed",
          "Fri",
          "Sun",
          "Thu",
          "Sat",
          "Mon",
          "Wed",
          "Fri",
          "Sun",
          "Tue",
          "Thu",
          "Sat",
          "Wed",
          "Tue",
          "Fri",
          "Tue",
          "Wed",
          "Fri",
          "Sun",
          "Tue",
          "Thu",
          "Sat",
          "Mon",
          "Wed",
          "Fri",
          "Sun",
          "Tue",
          "Thu",
          "Sat",
          "Mon",
          "Wed",
          "Mon",
          "Sat",
          "Thu",
          "Tue",
          "Wed",
          "Fri",
          "Sun",
          "Tue",
          "Thu",
          "Sat",
          "Mon",
          "Fri",
          "Wed",
          "Sun",
          "Tue",
          "Thu",
          "Sat",
          "Wed",
          "Fri",
          "Sun",
          "Fri",
          "Sun",
          "Mon",
          "Fri",
          "Mon",
          "Thu",
          "Sun",
          "Tue",
          "Mon",
          "Sun",
          "Wed",
          "Wed",
          "Thu",
          "Sat",
          "Tue",
          "Wed",
          "Sat",
          "Sun",
          "Fri",
          "Thu",
          "Tue",
          "Mon",
          "Sat",
          "Fri",
          "Thu",
          "Wed",
          "Sun",
          "Tue",
          "Thu",
          "Mon",
          "Tue",
          "Mon",
          "Sun",
          "Sat",
          "Fri",
          "Wed",
          "Fri",
          "Wed",
          "Sun",
          "Tue",
          "Mon",
          "Thu",
          "Sat",
          "Sat",
          "Mon",
          "Wed",
          "Thu",
          "Sat",
          "Tue",
          "Thu",
          "Sat",
          "Thu",
          "Tue",
          "Mon",
          "Sun",
          "Fri",
          "Sat",
          "Wed",
          "Mon",
          "Fri",
          "Sat",
          "Thu",
          "Sun",
          "Sat",
          "Wed",
          "Mon",
          "Thu",
          "Fri",
          "Wed",
          "Sun",
          "Fri",
          "Wed",
          "Wed",
          "Mon",
          "Mon",
          "Sat",
          "Tue",
          "Fri",
          "Sun",
          "Tue",
          "Sun",
          "Thu",
          "Tue",
          "Wed",
          "Tue",
          "Thu",
          "Sat",
          "Wed",
          "Fri",
          "Sun",
          "Tue",
          "Thu",
          "Sat",
          "Mon",
          "Mon",
          "Wed",
          "Sun",
          "Tue",
          "Thu",
          "Sat",
          "Mon",
          "Sun",
          "Fri",
          "Sun",
          "Tue",
          "Thu",
          "Sat",
          "Mon",
          "Wed",
          "Fri",
          "Fri",
          "Wed",
          "Mon",
          "Sat",
          "Mon",
          "Wed",
          "Fri",
          "Sun",
          "Tue",
          "Thu",
          "Sat",
          "Mon",
          "Wed",
          "Fri",
          "Sun",
          "Tue",
          "Thu",
          "Mon",
          "Wed",
          "Fri",
          "Sun",
          "Tue",
          "Thu",
          "Sat",
          "Mon",
          "Fri",
          "Sun",
          "Tue",
          "Thu",
          "Sat",
          "Wed",
          "Sat",
          "Fri",
          "Sun",
          "Mon",
          "Wed",
          "Fri",
          "Sun",
          "Tue",
          "Thu",
          "Sat",
          "Wed",
          "Fri",
          "Sun",
          "Tue",
          "Thu",
          "Sat",
          "Mon",
          "Wed",
          "Fri",
          "Tue",
          "Thu",
          "Sat",
          "Mon",
          "Wed",
          "Fri",
          "Sun",
          "Tue",
          "Thu",
          "Sat",
          "Mon",
          "Sat",
          "Thu",
          "Mon",
          "Sun",
          "Tue",
          "Thu",
          "Sat",
          "Mon",
          "Wed",
          "Fri",
          "Tue",
          "Tue",
          "Thu",
          "Sat",
          "Mon",
          "Wed",
          "Fri",
          "Sun",
          "Sun",
          "Thu",
          "Fri",
          "Tue",
          "Wed",
          "Mon",
          "Thu",
          "Tue",
          "Sat",
          "Fri",
          "Wed",
          "Mon",
          "Sat",
          "Sun",
          "Wed",
          "Sun",
          "Mon",
          "Sat",
          "Fri",
          "Thu",
          "Tue",
          "Fri",
          "Sun",
          "Mon",
          "Sat",
          "Thu",
          "Tue",
          "Fri",
          "Wed",
          "Sun",
          "Mon",
          "Wed",
          "Tue",
          "Fri",
          "Sat",
          "Sat",
          "Wed",
          "Thu",
          "Tue",
          "Sun",
          "Sun",
          "Fri",
          "Wed",
          "Tue",
          "Mon",
          "Sat",
          "Thu",
          "Tue",
          "Sun",
          "Fri",
          "Wed",
          "Mon",
          "Thu",
          "Thu",
          "Thu",
          "Tue",
          "Wed",
          "Fri",
          "Sun",
          "Tue",
          "Thu",
          "Sat",
          "Mon",
          "Wed",
          "Sun",
          "Tue",
          "Sat",
          "Sat",
          "Mon",
          "Fri",
          "Mon",
          "Fri",
          "Wed",
          "Sun",
          "Sat",
          "Mon",
          "Mon",
          "Thu",
          "Mon",
          "Tue",
          "Sat",
          "Wed",
          "Wed",
          "Thu",
          "Sat",
          "Fri",
          "Fri",
          "Mon",
          "Sat",
          "Sun",
          "Mon",
          "Thu",
          "Sat",
          "Tue",
          "Wed",
          "Thu",
          "Thu",
          "Fri",
          "Fri",
          "Wed",
          "Thu",
          "Thu",
          "Fri",
          "Wed",
          "Wed",
          "Sat",
          "Mon",
          "Thu",
          "Mon",
          "Tue",
          "Sat",
          "Fri",
          "Wed",
          "Mon",
          "Thu",
          "Tue",
          "Fri",
          "Sun",
          "Tue",
          "Sun",
          "Sun",
          "Wed",
          "Sun",
          "Sun",
          "Tue",
          "Fri",
          "Tue",
          "Sat",
          "Sun",
          "Sun",
          "Tue",
          "Mon",
          "Wed",
          "Sat",
          "Tue",
          "Sun",
          "Sat",
          "Tue",
          "Thu",
          "Thu",
          "Sat",
          "Sun",
          "Mon",
          "Fri",
          "Wed",
          "Tue",
          "Mon",
          "Wed",
          "Wed",
          "Fri",
          "Mon",
          "Sun",
          "Sat",
          "Tue",
          "Thu",
          "Thu",
          "Tue",
          "Sat",
          "Sun",
          "Mon",
          "Fri",
          "Wed",
          "Sun",
          "Mon",
          "Sun",
          "Thu",
          "Fri",
          "Wed",
          "Fri",
          "Mon",
          "Sun",
          "Sat",
          "Tue",
          "Thu",
          "Thu",
          "Tue",
          "Fri",
          "Sat",
          "Mon",
          "Fri",
          "Wed",
          "Wed",
          "Fri",
          "Mon",
          "Sun",
          "Sat",
          "Tue",
          "Thu",
          "Thu",
          "Tue",
          "Sun",
          "Sat",
          "Wed",
          "Fri",
          "Mon",
          "Sun",
          "Sun",
          "Fri",
          "Tue",
          "Wed",
          "Thu",
          "Mon",
          "Sat",
          "Sat",
          "Mon",
          "Thu",
          "Tue",
          "Fri",
          "Sun",
          "Sun",
          "Fri",
          "Tue",
          "Wed",
          "Thu",
          "Mon",
          "Sat",
          "Sat",
          "Mon",
          "Wed",
          "Fri",
          "Sat",
          "Fri",
          "Tue",
          "Wed",
          "Thu",
          "Wed",
          "Wed",
          "Tue",
          "Fri",
          "Sun",
          "Sun",
          "Fri",
          "Tue",
          "Wed",
          "Thu",
          "Mon",
          "Sat",
          "Sat",
          "Mon",
          "Thu",
          "Wed",
          "Thu",
          "Sat",
          "Sat",
          "Mon",
          "Thu",
          "Wed",
          "Mon",
          "Fri",
          "Sun",
          "Sun",
          "Fri",
          "Tue",
          "Tue",
          "Sun",
          "Fri",
          "Wed",
          "Mon",
          "Mon",
          "Tue",
          "Thu",
          "Sun",
          "Fri",
          "Wed",
          "Tue",
          "Sat",
          "Thu",
          "Thu",
          "Mon",
          "Wed",
          "Fri",
          "Sun",
          "Tue",
          "Sat",
          "Mon",
          "Wed",
          "Fri",
          "Sun",
          "Tue",
          "Thu",
          "Sat",
          "Sat",
          "Thu",
          "Sun",
          "Sun",
          "Tue",
          "Thu",
          "Sat",
          "Mon",
          "Wed",
          "Fri",
          "Sun",
          "Tue",
          "Thu",
          "Sat",
          "Mon",
          "Wed",
          "Fri",
          "Sun",
          "Tue",
          "Thu",
          "Sat",
          "Mon",
          "Wed",
          "Fri",
          "Sun",
          "Tue",
          "Thu",
          "Sat",
          "Mon",
          "Wed",
          "Fri",
          "Tue",
          "Sat"
         ]
        }
       ],
       "layout": {
        "template": {
         "data": {
          "bar": [
           {
            "error_x": {
             "color": "#2a3f5f"
            },
            "error_y": {
             "color": "#2a3f5f"
            },
            "marker": {
             "line": {
              "color": "#E5ECF6",
              "width": 0.5
             }
            },
            "type": "bar"
           }
          ],
          "barpolar": [
           {
            "marker": {
             "line": {
              "color": "#E5ECF6",
              "width": 0.5
             }
            },
            "type": "barpolar"
           }
          ],
          "carpet": [
           {
            "aaxis": {
             "endlinecolor": "#2a3f5f",
             "gridcolor": "white",
             "linecolor": "white",
             "minorgridcolor": "white",
             "startlinecolor": "#2a3f5f"
            },
            "baxis": {
             "endlinecolor": "#2a3f5f",
             "gridcolor": "white",
             "linecolor": "white",
             "minorgridcolor": "white",
             "startlinecolor": "#2a3f5f"
            },
            "type": "carpet"
           }
          ],
          "choropleth": [
           {
            "colorbar": {
             "outlinewidth": 0,
             "ticks": ""
            },
            "type": "choropleth"
           }
          ],
          "contour": [
           {
            "colorbar": {
             "outlinewidth": 0,
             "ticks": ""
            },
            "colorscale": [
             [
              0,
              "#0d0887"
             ],
             [
              0.1111111111111111,
              "#46039f"
             ],
             [
              0.2222222222222222,
              "#7201a8"
             ],
             [
              0.3333333333333333,
              "#9c179e"
             ],
             [
              0.4444444444444444,
              "#bd3786"
             ],
             [
              0.5555555555555556,
              "#d8576b"
             ],
             [
              0.6666666666666666,
              "#ed7953"
             ],
             [
              0.7777777777777778,
              "#fb9f3a"
             ],
             [
              0.8888888888888888,
              "#fdca26"
             ],
             [
              1,
              "#f0f921"
             ]
            ],
            "type": "contour"
           }
          ],
          "contourcarpet": [
           {
            "colorbar": {
             "outlinewidth": 0,
             "ticks": ""
            },
            "type": "contourcarpet"
           }
          ],
          "heatmap": [
           {
            "colorbar": {
             "outlinewidth": 0,
             "ticks": ""
            },
            "colorscale": [
             [
              0,
              "#0d0887"
             ],
             [
              0.1111111111111111,
              "#46039f"
             ],
             [
              0.2222222222222222,
              "#7201a8"
             ],
             [
              0.3333333333333333,
              "#9c179e"
             ],
             [
              0.4444444444444444,
              "#bd3786"
             ],
             [
              0.5555555555555556,
              "#d8576b"
             ],
             [
              0.6666666666666666,
              "#ed7953"
             ],
             [
              0.7777777777777778,
              "#fb9f3a"
             ],
             [
              0.8888888888888888,
              "#fdca26"
             ],
             [
              1,
              "#f0f921"
             ]
            ],
            "type": "heatmap"
           }
          ],
          "heatmapgl": [
           {
            "colorbar": {
             "outlinewidth": 0,
             "ticks": ""
            },
            "colorscale": [
             [
              0,
              "#0d0887"
             ],
             [
              0.1111111111111111,
              "#46039f"
             ],
             [
              0.2222222222222222,
              "#7201a8"
             ],
             [
              0.3333333333333333,
              "#9c179e"
             ],
             [
              0.4444444444444444,
              "#bd3786"
             ],
             [
              0.5555555555555556,
              "#d8576b"
             ],
             [
              0.6666666666666666,
              "#ed7953"
             ],
             [
              0.7777777777777778,
              "#fb9f3a"
             ],
             [
              0.8888888888888888,
              "#fdca26"
             ],
             [
              1,
              "#f0f921"
             ]
            ],
            "type": "heatmapgl"
           }
          ],
          "histogram": [
           {
            "marker": {
             "colorbar": {
              "outlinewidth": 0,
              "ticks": ""
             }
            },
            "type": "histogram"
           }
          ],
          "histogram2d": [
           {
            "colorbar": {
             "outlinewidth": 0,
             "ticks": ""
            },
            "colorscale": [
             [
              0,
              "#0d0887"
             ],
             [
              0.1111111111111111,
              "#46039f"
             ],
             [
              0.2222222222222222,
              "#7201a8"
             ],
             [
              0.3333333333333333,
              "#9c179e"
             ],
             [
              0.4444444444444444,
              "#bd3786"
             ],
             [
              0.5555555555555556,
              "#d8576b"
             ],
             [
              0.6666666666666666,
              "#ed7953"
             ],
             [
              0.7777777777777778,
              "#fb9f3a"
             ],
             [
              0.8888888888888888,
              "#fdca26"
             ],
             [
              1,
              "#f0f921"
             ]
            ],
            "type": "histogram2d"
           }
          ],
          "histogram2dcontour": [
           {
            "colorbar": {
             "outlinewidth": 0,
             "ticks": ""
            },
            "colorscale": [
             [
              0,
              "#0d0887"
             ],
             [
              0.1111111111111111,
              "#46039f"
             ],
             [
              0.2222222222222222,
              "#7201a8"
             ],
             [
              0.3333333333333333,
              "#9c179e"
             ],
             [
              0.4444444444444444,
              "#bd3786"
             ],
             [
              0.5555555555555556,
              "#d8576b"
             ],
             [
              0.6666666666666666,
              "#ed7953"
             ],
             [
              0.7777777777777778,
              "#fb9f3a"
             ],
             [
              0.8888888888888888,
              "#fdca26"
             ],
             [
              1,
              "#f0f921"
             ]
            ],
            "type": "histogram2dcontour"
           }
          ],
          "mesh3d": [
           {
            "colorbar": {
             "outlinewidth": 0,
             "ticks": ""
            },
            "type": "mesh3d"
           }
          ],
          "parcoords": [
           {
            "line": {
             "colorbar": {
              "outlinewidth": 0,
              "ticks": ""
             }
            },
            "type": "parcoords"
           }
          ],
          "pie": [
           {
            "automargin": true,
            "type": "pie"
           }
          ],
          "scatter": [
           {
            "marker": {
             "colorbar": {
              "outlinewidth": 0,
              "ticks": ""
             }
            },
            "type": "scatter"
           }
          ],
          "scatter3d": [
           {
            "line": {
             "colorbar": {
              "outlinewidth": 0,
              "ticks": ""
             }
            },
            "marker": {
             "colorbar": {
              "outlinewidth": 0,
              "ticks": ""
             }
            },
            "type": "scatter3d"
           }
          ],
          "scattercarpet": [
           {
            "marker": {
             "colorbar": {
              "outlinewidth": 0,
              "ticks": ""
             }
            },
            "type": "scattercarpet"
           }
          ],
          "scattergeo": [
           {
            "marker": {
             "colorbar": {
              "outlinewidth": 0,
              "ticks": ""
             }
            },
            "type": "scattergeo"
           }
          ],
          "scattergl": [
           {
            "marker": {
             "colorbar": {
              "outlinewidth": 0,
              "ticks": ""
             }
            },
            "type": "scattergl"
           }
          ],
          "scattermapbox": [
           {
            "marker": {
             "colorbar": {
              "outlinewidth": 0,
              "ticks": ""
             }
            },
            "type": "scattermapbox"
           }
          ],
          "scatterpolar": [
           {
            "marker": {
             "colorbar": {
              "outlinewidth": 0,
              "ticks": ""
             }
            },
            "type": "scatterpolar"
           }
          ],
          "scatterpolargl": [
           {
            "marker": {
             "colorbar": {
              "outlinewidth": 0,
              "ticks": ""
             }
            },
            "type": "scatterpolargl"
           }
          ],
          "scatterternary": [
           {
            "marker": {
             "colorbar": {
              "outlinewidth": 0,
              "ticks": ""
             }
            },
            "type": "scatterternary"
           }
          ],
          "surface": [
           {
            "colorbar": {
             "outlinewidth": 0,
             "ticks": ""
            },
            "colorscale": [
             [
              0,
              "#0d0887"
             ],
             [
              0.1111111111111111,
              "#46039f"
             ],
             [
              0.2222222222222222,
              "#7201a8"
             ],
             [
              0.3333333333333333,
              "#9c179e"
             ],
             [
              0.4444444444444444,
              "#bd3786"
             ],
             [
              0.5555555555555556,
              "#d8576b"
             ],
             [
              0.6666666666666666,
              "#ed7953"
             ],
             [
              0.7777777777777778,
              "#fb9f3a"
             ],
             [
              0.8888888888888888,
              "#fdca26"
             ],
             [
              1,
              "#f0f921"
             ]
            ],
            "type": "surface"
           }
          ],
          "table": [
           {
            "cells": {
             "fill": {
              "color": "#EBF0F8"
             },
             "line": {
              "color": "white"
             }
            },
            "header": {
             "fill": {
              "color": "#C8D4E3"
             },
             "line": {
              "color": "white"
             }
            },
            "type": "table"
           }
          ]
         },
         "layout": {
          "annotationdefaults": {
           "arrowcolor": "#2a3f5f",
           "arrowhead": 0,
           "arrowwidth": 1
          },
          "coloraxis": {
           "colorbar": {
            "outlinewidth": 0,
            "ticks": ""
           }
          },
          "colorscale": {
           "diverging": [
            [
             0,
             "#8e0152"
            ],
            [
             0.1,
             "#c51b7d"
            ],
            [
             0.2,
             "#de77ae"
            ],
            [
             0.3,
             "#f1b6da"
            ],
            [
             0.4,
             "#fde0ef"
            ],
            [
             0.5,
             "#f7f7f7"
            ],
            [
             0.6,
             "#e6f5d0"
            ],
            [
             0.7,
             "#b8e186"
            ],
            [
             0.8,
             "#7fbc41"
            ],
            [
             0.9,
             "#4d9221"
            ],
            [
             1,
             "#276419"
            ]
           ],
           "sequential": [
            [
             0,
             "#0d0887"
            ],
            [
             0.1111111111111111,
             "#46039f"
            ],
            [
             0.2222222222222222,
             "#7201a8"
            ],
            [
             0.3333333333333333,
             "#9c179e"
            ],
            [
             0.4444444444444444,
             "#bd3786"
            ],
            [
             0.5555555555555556,
             "#d8576b"
            ],
            [
             0.6666666666666666,
             "#ed7953"
            ],
            [
             0.7777777777777778,
             "#fb9f3a"
            ],
            [
             0.8888888888888888,
             "#fdca26"
            ],
            [
             1,
             "#f0f921"
            ]
           ],
           "sequentialminus": [
            [
             0,
             "#0d0887"
            ],
            [
             0.1111111111111111,
             "#46039f"
            ],
            [
             0.2222222222222222,
             "#7201a8"
            ],
            [
             0.3333333333333333,
             "#9c179e"
            ],
            [
             0.4444444444444444,
             "#bd3786"
            ],
            [
             0.5555555555555556,
             "#d8576b"
            ],
            [
             0.6666666666666666,
             "#ed7953"
            ],
            [
             0.7777777777777778,
             "#fb9f3a"
            ],
            [
             0.8888888888888888,
             "#fdca26"
            ],
            [
             1,
             "#f0f921"
            ]
           ]
          },
          "colorway": [
           "#636efa",
           "#EF553B",
           "#00cc96",
           "#ab63fa",
           "#FFA15A",
           "#19d3f3",
           "#FF6692",
           "#B6E880",
           "#FF97FF",
           "#FECB52"
          ],
          "font": {
           "color": "#2a3f5f"
          },
          "geo": {
           "bgcolor": "white",
           "lakecolor": "white",
           "landcolor": "#E5ECF6",
           "showlakes": true,
           "showland": true,
           "subunitcolor": "white"
          },
          "hoverlabel": {
           "align": "left"
          },
          "hovermode": "closest",
          "mapbox": {
           "style": "light"
          },
          "paper_bgcolor": "white",
          "plot_bgcolor": "#E5ECF6",
          "polar": {
           "angularaxis": {
            "gridcolor": "white",
            "linecolor": "white",
            "ticks": ""
           },
           "bgcolor": "#E5ECF6",
           "radialaxis": {
            "gridcolor": "white",
            "linecolor": "white",
            "ticks": ""
           }
          },
          "scene": {
           "xaxis": {
            "backgroundcolor": "#E5ECF6",
            "gridcolor": "white",
            "gridwidth": 2,
            "linecolor": "white",
            "showbackground": true,
            "ticks": "",
            "zerolinecolor": "white"
           },
           "yaxis": {
            "backgroundcolor": "#E5ECF6",
            "gridcolor": "white",
            "gridwidth": 2,
            "linecolor": "white",
            "showbackground": true,
            "ticks": "",
            "zerolinecolor": "white"
           },
           "zaxis": {
            "backgroundcolor": "#E5ECF6",
            "gridcolor": "white",
            "gridwidth": 2,
            "linecolor": "white",
            "showbackground": true,
            "ticks": "",
            "zerolinecolor": "white"
           }
          },
          "shapedefaults": {
           "line": {
            "color": "#2a3f5f"
           }
          },
          "ternary": {
           "aaxis": {
            "gridcolor": "white",
            "linecolor": "white",
            "ticks": ""
           },
           "baxis": {
            "gridcolor": "white",
            "linecolor": "white",
            "ticks": ""
           },
           "bgcolor": "#E5ECF6",
           "caxis": {
            "gridcolor": "white",
            "linecolor": "white",
            "ticks": ""
           }
          },
          "title": {
           "x": 0.05
          },
          "xaxis": {
           "automargin": true,
           "gridcolor": "white",
           "linecolor": "white",
           "ticks": "",
           "title": {
            "standoff": 15
           },
           "zerolinecolor": "white",
           "zerolinewidth": 2
          },
          "yaxis": {
           "automargin": true,
           "gridcolor": "white",
           "linecolor": "white",
           "ticks": "",
           "title": {
            "standoff": 15
           },
           "zerolinecolor": "white",
           "zerolinewidth": 2
          }
         }
        },
        "xaxis": {
         "title": {
          "text": "Time (7AM to 6PM)"
         }
        },
        "yaxis": {
         "title": {
          "text": "Day"
         }
        }
       }
      },
      "text/html": [
       "<div>\n",
       "        \n",
       "        \n",
       "            <div id=\"6168d992-b4b3-4483-8fef-b1ec7dbbfdae\" class=\"plotly-graph-div\" style=\"height:525px; width:100%;\"></div>\n",
       "            <script type=\"text/javascript\">\n",
       "                require([\"plotly\"], function(Plotly) {\n",
       "                    window.PLOTLYENV=window.PLOTLYENV || {};\n",
       "                    \n",
       "                if (document.getElementById(\"6168d992-b4b3-4483-8fef-b1ec7dbbfdae\")) {\n",
       "                    Plotly.newPlot(\n",
       "                        '6168d992-b4b3-4483-8fef-b1ec7dbbfdae',\n",
       "                        [{\"marker\": {\"size\": [827, 735, 747, 733, 739, 729, 825, 745, 731, 813, 743, 815, 823, 829, 817, 819, 741, 737, 793, 811, 795, 837, 765, 767, 721, 791, 769, 763, 789, 787, 773, 785, 775, 783, 777, 839, 771, 831, 797, 761, 749, 727, 809, 751, 807, 833, 753, 723, 805, 725, 803, 757, 801, 835, 759, 799, 755, 821, 779, 781, 957, 877, 921, 935, 881, 883, 933, 885, 887, 931, 889, 891, 929, 893, 895, 897, 899, 955, 901, 927, 903, 905, 907, 909, 925, 911, 913, 923, 915, 917, 937, 875, 879, 919, 949, 853, 951, 855, 947, 873, 857, 847, 859, 945, 845, 851, 861, 941, 939, 871, 841, 869, 863, 867, 849, 843, 865, 943, 953, 959, 961, 991, 995, 993, 975, 989, 965, 987, 985, 967, 983, 969, 981, 971, 979, 977, 973, 963, 1079, 1077, 999, 1045, 1047, 1049, 1051, 1053, 1055, 1057, 1043, 1059, 1063, 1065, 1067, 1069, 1071, 1073, 1075, 1061, 1041, 1039, 1037, 1001, 1003, 1005, 1007, 1009, 1011, 1013, 1015, 1019, 1021, 1023, 1025, 1027, 1029, 1031, 1033, 1035, 997, 1017, 1167, 1199, 1123, 1125, 1127, 1129, 1131, 1133, 1135, 1137, 1139, 1141, 1143, 1145, 1147, 1149, 1151, 1121, 1119, 1117, 1115, 1081, 1083, 1085, 1087, 1089, 1091, 1093, 1153, 1095, 1099, 1101, 1103, 1105, 1109, 1111, 1113, 1097, 1155, 1107, 1195, 1191, 1173, 1183, 1171, 1177, 1169, 1193, 1165, 1187, 1189, 1157, 1179, 1161, 1197, 1181, 1159, 1185, 1163, 1175, 1293, 1215, 1291, 1295, 1213, 1201, 1289, 1297, 1303, 1211, 1301, 1209, 1305, 1307, 1207, 1309, 1311, 1205, 1313, 1315, 1203, 1317, 1319, 1299, 1287, 1241, 1285, 1231, 1257, 1255, 1233, 1253, 1251, 1259, 1235, 1247, 1237, 1245, 1243, 1239, 1217, 1249, 1261, 1229, 1265, 1263, 1281, 1279, 1221, 1277, 1275, 1219, 1273, 1227, 1223, 1267, 1283, 1225, 1271, 1269, 1410, 1388, 1390, 1392, 1396, 1398, 1400, 1402, 1404, 1406, 1408, 1394, 1424, 1414, 1416, 1418, 1420, 1422, 1386, 1426, 1428, 1430, 1432, 1434, 1436, 1438, 1412, 1384, 1368, 1380, 1322, 1324, 1326, 1328, 1330, 1332, 1334, 1336, 1338, 1340, 1342, 1344, 1346, 1348, 1352, 1354, 1356, 1358, 1360, 1362, 1364, 1366, 1370, 1372, 1374, 1376, 1378, 1382, 1350, 1440, 98, 64, 66, 68, 70, 72, 74, 76, 80, 82, 84, 86, 88, 90, 92, 94, 96, 100, 102, 104, 106, 108, 110, 112, 114, 116, 118, 120, 62, 60, 78, 56, 2, 4, 6, 8, 10, 12, 58, 16, 18, 20, 22, 24, 26, 28, 14, 32, 54, 30, 52, 50, 46, 44, 48, 40, 38, 36, 34, 42, 192, 182, 190, 188, 194, 186, 184, 180, 168, 176, 174, 172, 170, 166, 164, 196, 162, 178, 198, 236, 202, 160, 234, 228, 226, 224, 238, 222, 220, 240, 218, 216, 214, 212, 210, 208, 206, 204, 200, 158, 144, 156, 122, 124, 126, 128, 130, 132, 134, 136, 140, 142, 230, 146, 148, 138, 232, 152, 150, 154, 342, 316, 246, 284, 344, 268, 244, 304, 346, 242, 286, 348, 320, 302, 272, 350, 288, 270, 300, 352, 290, 354, 298, 292, 306, 248, 326, 340, 264, 262, 276, 328, 260, 312, 330, 324, 258, 278, 332, 274, 256, 310, 334, 266, 254, 280, 336, 318, 252, 308, 338, 250, 282, 314, 322, 294, 296, 358, 360, 356, 478, 434, 398, 436, 396, 438, 440, 392, 442, 390, 444, 394, 400, 402, 430, 404, 428, 406, 426, 408, 424, 410, 422, 412, 420, 414, 432, 388, 448, 386, 476, 480, 474, 472, 362, 470, 364, 468, 366, 466, 368, 464, 446, 370, 372, 460, 374, 458, 376, 456, 378, 454, 380, 452, 382, 450, 462, 384, 416, 418, 540, 504, 574, 502, 576, 500, 578, 498, 580, 496, 582, 494, 492, 586, 490, 588, 488, 590, 486, 592, 484, 594, 482, 596, 598, 600, 538, 572, 506, 584, 508, 570, 542, 534, 544, 532, 546, 530, 548, 528, 550, 526, 552, 524, 554, 536, 556, 522, 510, 566, 512, 564, 514, 568, 516, 560, 518, 558, 520, 562, 686, 684, 682, 666, 680, 674, 676, 672, 670, 668, 688, 678, 690, 704, 694, 696, 698, 700, 702, 706, 708, 710, 712, 714, 716, 718, 664, 692, 662, 602, 658, 604, 606, 608, 610, 612, 614, 616, 618, 620, 622, 624, 626, 628, 630, 632, 634, 636, 638, 640, 642, 644, 646, 648, 650, 652, 654, 656, 660, 720], \"sizemin\": 4, \"sizemode\": \"area\", \"sizeref\": 9.216}, \"mode\": \"markers\", \"type\": \"scatter\", \"x\": [7, 7, 7, 7, 7, 7, 7, 7, 7, 7, 7, 7, 7, 7, 7, 7, 7, 7, 7, 7, 7, 7, 7, 7, 7, 7, 7, 7, 7, 7, 7, 7, 7, 7, 7, 7, 7, 7, 7, 7, 7, 7, 7, 7, 7, 7, 7, 7, 7, 7, 7, 7, 7, 7, 7, 7, 7, 7, 7, 7, 8, 8, 8, 8, 8, 8, 8, 8, 8, 8, 8, 8, 8, 8, 8, 8, 8, 8, 8, 8, 8, 8, 8, 8, 8, 8, 8, 8, 8, 8, 8, 8, 8, 8, 8, 8, 8, 8, 8, 8, 8, 8, 8, 8, 8, 8, 8, 8, 8, 8, 8, 8, 8, 8, 8, 8, 8, 8, 8, 8, 9, 9, 9, 9, 9, 9, 9, 9, 9, 9, 9, 9, 9, 9, 9, 9, 9, 9, 9, 9, 9, 9, 9, 9, 9, 9, 9, 9, 9, 9, 9, 9, 9, 9, 9, 9, 9, 9, 9, 9, 9, 9, 9, 9, 9, 9, 9, 9, 9, 9, 9, 9, 9, 9, 9, 9, 9, 9, 9, 9, 10, 10, 10, 10, 10, 10, 10, 10, 10, 10, 10, 10, 10, 10, 10, 10, 10, 10, 10, 10, 10, 10, 10, 10, 10, 10, 10, 10, 10, 10, 10, 10, 10, 10, 10, 10, 10, 10, 10, 10, 10, 10, 10, 10, 10, 10, 10, 10, 10, 10, 10, 10, 10, 10, 10, 10, 10, 10, 10, 10, 11, 11, 11, 11, 11, 11, 11, 11, 11, 11, 11, 11, 11, 11, 11, 11, 11, 11, 11, 11, 11, 11, 11, 11, 11, 11, 11, 11, 11, 11, 11, 11, 11, 11, 11, 11, 11, 11, 11, 11, 11, 11, 11, 11, 11, 11, 11, 11, 11, 11, 11, 11, 11, 11, 11, 11, 11, 11, 11, 11, 12, 12, 12, 12, 12, 12, 12, 12, 12, 12, 12, 12, 12, 12, 12, 12, 12, 12, 12, 12, 12, 12, 12, 12, 12, 12, 12, 12, 12, 12, 12, 12, 12, 12, 12, 12, 12, 12, 12, 12, 12, 12, 12, 12, 12, 12, 12, 12, 12, 12, 12, 12, 12, 12, 12, 12, 12, 12, 12, 12, 13, 13, 13, 13, 13, 13, 13, 13, 13, 13, 13, 13, 13, 13, 13, 13, 13, 13, 13, 13, 13, 13, 13, 13, 13, 13, 13, 13, 13, 13, 13, 13, 13, 13, 13, 13, 13, 13, 13, 13, 13, 13, 13, 13, 13, 13, 13, 13, 13, 13, 13, 13, 13, 13, 13, 13, 13, 13, 13, 13, 14, 14, 14, 14, 14, 14, 14, 14, 14, 14, 14, 14, 14, 14, 14, 14, 14, 14, 14, 14, 14, 14, 14, 14, 14, 14, 14, 14, 14, 14, 14, 14, 14, 14, 14, 14, 14, 14, 14, 14, 14, 14, 14, 14, 14, 14, 14, 14, 14, 14, 14, 14, 14, 14, 14, 14, 14, 14, 14, 14, 15, 15, 15, 15, 15, 15, 15, 15, 15, 15, 15, 15, 15, 15, 15, 15, 15, 15, 15, 15, 15, 15, 15, 15, 15, 15, 15, 15, 15, 15, 15, 15, 15, 15, 15, 15, 15, 15, 15, 15, 15, 15, 15, 15, 15, 15, 15, 15, 15, 15, 15, 15, 15, 15, 15, 15, 15, 15, 15, 15, 16, 16, 16, 16, 16, 16, 16, 16, 16, 16, 16, 16, 16, 16, 16, 16, 16, 16, 16, 16, 16, 16, 16, 16, 16, 16, 16, 16, 16, 16, 16, 16, 16, 16, 16, 16, 16, 16, 16, 16, 16, 16, 16, 16, 16, 16, 16, 16, 16, 16, 16, 16, 16, 16, 16, 16, 16, 16, 16, 16, 17, 17, 17, 17, 17, 17, 17, 17, 17, 17, 17, 17, 17, 17, 17, 17, 17, 17, 17, 17, 17, 17, 17, 17, 17, 17, 17, 17, 17, 17, 17, 17, 17, 17, 17, 17, 17, 17, 17, 17, 17, 17, 17, 17, 17, 17, 17, 17, 17, 17, 17, 17, 17, 17, 17, 17, 17, 17, 17, 17, 18, 18, 18, 18, 18, 18, 18, 18, 18, 18, 18, 18, 18, 18, 18, 18, 18, 18, 18, 18, 18, 18, 18, 18, 18, 18, 18, 18, 18, 18, 18, 18, 18, 18, 18, 18, 18, 18, 18, 18, 18, 18, 18, 18, 18, 18, 18, 18, 18, 18, 18, 18, 18, 18, 18, 18, 18, 18, 18, 18], \"y\": [\"Mon\", \"Sun\", \"Fri\", \"Fri\", \"Thu\", \"Mon\", \"Sat\", \"Wed\", \"Wed\", \"Mon\", \"Mon\", \"Wed\", \"Thu\", \"Wed\", \"Fri\", \"Sun\", \"Sat\", \"Tue\", \"Tue\", \"Sat\", \"Thu\", \"Thu\", \"Tue\", \"Thu\", \"Sun\", \"Sun\", \"Sat\", \"Sun\", \"Fri\", \"Wed\", \"Wed\", \"Mon\", \"Fri\", \"Sat\", \"Sun\", \"Sat\", \"Mon\", \"Fri\", \"Sat\", \"Fri\", \"Sun\", \"Sat\", \"Thu\", \"Tue\", \"Tue\", \"Sun\", \"Thu\", \"Tue\", \"Sun\", \"Thu\", \"Fri\", \"Mon\", \"Wed\", \"Tue\", \"Wed\", \"Mon\", \"Sat\", \"Tue\", \"Tue\", \"Thu\", \"Fri\", \"Tue\", \"Thu\", \"Thu\", \"Sat\", \"Mon\", \"Tue\", \"Wed\", \"Fri\", \"Sun\", \"Sun\", \"Tue\", \"Fri\", \"Thu\", \"Sat\", \"Mon\", \"Wed\", \"Wed\", \"Fri\", \"Wed\", \"Sun\", \"Tue\", \"Thu\", \"Sat\", \"Mon\", \"Mon\", \"Wed\", \"Sat\", \"Fri\", \"Sun\", \"Sat\", \"Sun\", \"Thu\", \"Tue\", \"Thu\", \"Sat\", \"Sat\", \"Mon\", \"Tue\", \"Fri\", \"Wed\", \"Sun\", \"Fri\", \"Sun\", \"Fri\", \"Thu\", \"Sun\", \"Wed\", \"Mon\", \"Wed\", \"Mon\", \"Mon\", \"Tue\", \"Sat\", \"Tue\", \"Wed\", \"Thu\", \"Fri\", \"Mon\", \"Sun\", \"Tue\", \"Thu\", \"Mon\", \"Sat\", \"Tue\", \"Tue\", \"Sat\", \"Sun\", \"Fri\", \"Mon\", \"Wed\", \"Wed\", \"Mon\", \"Fri\", \"Sat\", \"Thu\", \"Sun\", \"Thu\", \"Mon\", \"Sat\", \"Fri\", \"Tue\", \"Thu\", \"Sat\", \"Mon\", \"Wed\", \"Fri\", \"Sun\", \"Sun\", \"Tue\", \"Sat\", \"Mon\", \"Wed\", \"Fri\", \"Sun\", \"Tue\", \"Thu\", \"Thu\", \"Fri\", \"Wed\", \"Mon\", \"Sun\", \"Tue\", \"Thu\", \"Sat\", \"Mon\", \"Wed\", \"Fri\", \"Sun\", \"Thu\", \"Sat\", \"Mon\", \"Wed\", \"Fri\", \"Sun\", \"Tue\", \"Thu\", \"Sat\", \"Wed\", \"Tue\", \"Fri\", \"Tue\", \"Wed\", \"Fri\", \"Sun\", \"Tue\", \"Thu\", \"Sat\", \"Mon\", \"Wed\", \"Fri\", \"Sun\", \"Tue\", \"Thu\", \"Sat\", \"Mon\", \"Wed\", \"Mon\", \"Sat\", \"Thu\", \"Tue\", \"Wed\", \"Fri\", \"Sun\", \"Tue\", \"Thu\", \"Sat\", \"Mon\", \"Fri\", \"Wed\", \"Sun\", \"Tue\", \"Thu\", \"Sat\", \"Wed\", \"Fri\", \"Sun\", \"Fri\", \"Sun\", \"Mon\", \"Fri\", \"Mon\", \"Thu\", \"Sun\", \"Tue\", \"Mon\", \"Sun\", \"Wed\", \"Wed\", \"Thu\", \"Sat\", \"Tue\", \"Wed\", \"Sat\", \"Sun\", \"Fri\", \"Thu\", \"Tue\", \"Mon\", \"Sat\", \"Fri\", \"Thu\", \"Wed\", \"Sun\", \"Tue\", \"Thu\", \"Mon\", \"Tue\", \"Mon\", \"Sun\", \"Sat\", \"Fri\", \"Wed\", \"Fri\", \"Wed\", \"Sun\", \"Tue\", \"Mon\", \"Thu\", \"Sat\", \"Sat\", \"Mon\", \"Wed\", \"Thu\", \"Sat\", \"Tue\", \"Thu\", \"Sat\", \"Thu\", \"Tue\", \"Mon\", \"Sun\", \"Fri\", \"Sat\", \"Wed\", \"Mon\", \"Fri\", \"Sat\", \"Thu\", \"Sun\", \"Sat\", \"Wed\", \"Mon\", \"Thu\", \"Fri\", \"Wed\", \"Sun\", \"Fri\", \"Wed\", \"Wed\", \"Mon\", \"Mon\", \"Sat\", \"Tue\", \"Fri\", \"Sun\", \"Tue\", \"Sun\", \"Thu\", \"Tue\", \"Wed\", \"Tue\", \"Thu\", \"Sat\", \"Wed\", \"Fri\", \"Sun\", \"Tue\", \"Thu\", \"Sat\", \"Mon\", \"Mon\", \"Wed\", \"Sun\", \"Tue\", \"Thu\", \"Sat\", \"Mon\", \"Sun\", \"Fri\", \"Sun\", \"Tue\", \"Thu\", \"Sat\", \"Mon\", \"Wed\", \"Fri\", \"Fri\", \"Wed\", \"Mon\", \"Sat\", \"Mon\", \"Wed\", \"Fri\", \"Sun\", \"Tue\", \"Thu\", \"Sat\", \"Mon\", \"Wed\", \"Fri\", \"Sun\", \"Tue\", \"Thu\", \"Mon\", \"Wed\", \"Fri\", \"Sun\", \"Tue\", \"Thu\", \"Sat\", \"Mon\", \"Fri\", \"Sun\", \"Tue\", \"Thu\", \"Sat\", \"Wed\", \"Sat\", \"Fri\", \"Sun\", \"Mon\", \"Wed\", \"Fri\", \"Sun\", \"Tue\", \"Thu\", \"Sat\", \"Wed\", \"Fri\", \"Sun\", \"Tue\", \"Thu\", \"Sat\", \"Mon\", \"Wed\", \"Fri\", \"Tue\", \"Thu\", \"Sat\", \"Mon\", \"Wed\", \"Fri\", \"Sun\", \"Tue\", \"Thu\", \"Sat\", \"Mon\", \"Sat\", \"Thu\", \"Mon\", \"Sun\", \"Tue\", \"Thu\", \"Sat\", \"Mon\", \"Wed\", \"Fri\", \"Tue\", \"Tue\", \"Thu\", \"Sat\", \"Mon\", \"Wed\", \"Fri\", \"Sun\", \"Sun\", \"Thu\", \"Fri\", \"Tue\", \"Wed\", \"Mon\", \"Thu\", \"Tue\", \"Sat\", \"Fri\", \"Wed\", \"Mon\", \"Sat\", \"Sun\", \"Wed\", \"Sun\", \"Mon\", \"Sat\", \"Fri\", \"Thu\", \"Tue\", \"Fri\", \"Sun\", \"Mon\", \"Sat\", \"Thu\", \"Tue\", \"Fri\", \"Wed\", \"Sun\", \"Mon\", \"Wed\", \"Tue\", \"Fri\", \"Sat\", \"Sat\", \"Wed\", \"Thu\", \"Tue\", \"Sun\", \"Sun\", \"Fri\", \"Wed\", \"Tue\", \"Mon\", \"Sat\", \"Thu\", \"Tue\", \"Sun\", \"Fri\", \"Wed\", \"Mon\", \"Thu\", \"Thu\", \"Thu\", \"Tue\", \"Wed\", \"Fri\", \"Sun\", \"Tue\", \"Thu\", \"Sat\", \"Mon\", \"Wed\", \"Sun\", \"Tue\", \"Sat\", \"Sat\", \"Mon\", \"Fri\", \"Mon\", \"Fri\", \"Wed\", \"Sun\", \"Sat\", \"Mon\", \"Mon\", \"Thu\", \"Mon\", \"Tue\", \"Sat\", \"Wed\", \"Wed\", \"Thu\", \"Sat\", \"Fri\", \"Fri\", \"Mon\", \"Sat\", \"Sun\", \"Mon\", \"Thu\", \"Sat\", \"Tue\", \"Wed\", \"Thu\", \"Thu\", \"Fri\", \"Fri\", \"Wed\", \"Thu\", \"Thu\", \"Fri\", \"Wed\", \"Wed\", \"Sat\", \"Mon\", \"Thu\", \"Mon\", \"Tue\", \"Sat\", \"Fri\", \"Wed\", \"Mon\", \"Thu\", \"Tue\", \"Fri\", \"Sun\", \"Tue\", \"Sun\", \"Sun\", \"Wed\", \"Sun\", \"Sun\", \"Tue\", \"Fri\", \"Tue\", \"Sat\", \"Sun\", \"Sun\", \"Tue\", \"Mon\", \"Wed\", \"Sat\", \"Tue\", \"Sun\", \"Sat\", \"Tue\", \"Thu\", \"Thu\", \"Sat\", \"Sun\", \"Mon\", \"Fri\", \"Wed\", \"Tue\", \"Mon\", \"Wed\", \"Wed\", \"Fri\", \"Mon\", \"Sun\", \"Sat\", \"Tue\", \"Thu\", \"Thu\", \"Tue\", \"Sat\", \"Sun\", \"Mon\", \"Fri\", \"Wed\", \"Sun\", \"Mon\", \"Sun\", \"Thu\", \"Fri\", \"Wed\", \"Fri\", \"Mon\", \"Sun\", \"Sat\", \"Tue\", \"Thu\", \"Thu\", \"Tue\", \"Fri\", \"Sat\", \"Mon\", \"Fri\", \"Wed\", \"Wed\", \"Fri\", \"Mon\", \"Sun\", \"Sat\", \"Tue\", \"Thu\", \"Thu\", \"Tue\", \"Sun\", \"Sat\", \"Wed\", \"Fri\", \"Mon\", \"Sun\", \"Sun\", \"Fri\", \"Tue\", \"Wed\", \"Thu\", \"Mon\", \"Sat\", \"Sat\", \"Mon\", \"Thu\", \"Tue\", \"Fri\", \"Sun\", \"Sun\", \"Fri\", \"Tue\", \"Wed\", \"Thu\", \"Mon\", \"Sat\", \"Sat\", \"Mon\", \"Wed\", \"Fri\", \"Sat\", \"Fri\", \"Tue\", \"Wed\", \"Thu\", \"Wed\", \"Wed\", \"Tue\", \"Fri\", \"Sun\", \"Sun\", \"Fri\", \"Tue\", \"Wed\", \"Thu\", \"Mon\", \"Sat\", \"Sat\", \"Mon\", \"Thu\", \"Wed\", \"Thu\", \"Sat\", \"Sat\", \"Mon\", \"Thu\", \"Wed\", \"Mon\", \"Fri\", \"Sun\", \"Sun\", \"Fri\", \"Tue\", \"Tue\", \"Sun\", \"Fri\", \"Wed\", \"Mon\", \"Mon\", \"Tue\", \"Thu\", \"Sun\", \"Fri\", \"Wed\", \"Tue\", \"Sat\", \"Thu\", \"Thu\", \"Mon\", \"Wed\", \"Fri\", \"Sun\", \"Tue\", \"Sat\", \"Mon\", \"Wed\", \"Fri\", \"Sun\", \"Tue\", \"Thu\", \"Sat\", \"Sat\", \"Thu\", \"Sun\", \"Sun\", \"Tue\", \"Thu\", \"Sat\", \"Mon\", \"Wed\", \"Fri\", \"Sun\", \"Tue\", \"Thu\", \"Sat\", \"Mon\", \"Wed\", \"Fri\", \"Sun\", \"Tue\", \"Thu\", \"Sat\", \"Mon\", \"Wed\", \"Fri\", \"Sun\", \"Tue\", \"Thu\", \"Sat\", \"Mon\", \"Wed\", \"Fri\", \"Tue\", \"Sat\"]}],\n",
       "                        {\"template\": {\"data\": {\"bar\": [{\"error_x\": {\"color\": \"#2a3f5f\"}, \"error_y\": {\"color\": \"#2a3f5f\"}, \"marker\": {\"line\": {\"color\": \"#E5ECF6\", \"width\": 0.5}}, \"type\": \"bar\"}], \"barpolar\": [{\"marker\": {\"line\": {\"color\": \"#E5ECF6\", \"width\": 0.5}}, \"type\": \"barpolar\"}], \"carpet\": [{\"aaxis\": {\"endlinecolor\": \"#2a3f5f\", \"gridcolor\": \"white\", \"linecolor\": \"white\", \"minorgridcolor\": \"white\", \"startlinecolor\": \"#2a3f5f\"}, \"baxis\": {\"endlinecolor\": \"#2a3f5f\", \"gridcolor\": \"white\", \"linecolor\": \"white\", \"minorgridcolor\": \"white\", \"startlinecolor\": \"#2a3f5f\"}, \"type\": \"carpet\"}], \"choropleth\": [{\"colorbar\": {\"outlinewidth\": 0, \"ticks\": \"\"}, \"type\": \"choropleth\"}], \"contour\": [{\"colorbar\": {\"outlinewidth\": 0, \"ticks\": \"\"}, \"colorscale\": [[0.0, \"#0d0887\"], [0.1111111111111111, \"#46039f\"], [0.2222222222222222, \"#7201a8\"], [0.3333333333333333, \"#9c179e\"], [0.4444444444444444, \"#bd3786\"], [0.5555555555555556, \"#d8576b\"], [0.6666666666666666, \"#ed7953\"], [0.7777777777777778, \"#fb9f3a\"], [0.8888888888888888, \"#fdca26\"], [1.0, \"#f0f921\"]], \"type\": \"contour\"}], \"contourcarpet\": [{\"colorbar\": {\"outlinewidth\": 0, \"ticks\": \"\"}, \"type\": \"contourcarpet\"}], \"heatmap\": [{\"colorbar\": {\"outlinewidth\": 0, \"ticks\": \"\"}, \"colorscale\": [[0.0, \"#0d0887\"], [0.1111111111111111, \"#46039f\"], [0.2222222222222222, \"#7201a8\"], [0.3333333333333333, \"#9c179e\"], [0.4444444444444444, \"#bd3786\"], [0.5555555555555556, \"#d8576b\"], [0.6666666666666666, \"#ed7953\"], [0.7777777777777778, \"#fb9f3a\"], [0.8888888888888888, \"#fdca26\"], [1.0, \"#f0f921\"]], \"type\": \"heatmap\"}], \"heatmapgl\": [{\"colorbar\": {\"outlinewidth\": 0, \"ticks\": \"\"}, \"colorscale\": [[0.0, \"#0d0887\"], [0.1111111111111111, \"#46039f\"], [0.2222222222222222, \"#7201a8\"], [0.3333333333333333, \"#9c179e\"], [0.4444444444444444, \"#bd3786\"], [0.5555555555555556, \"#d8576b\"], [0.6666666666666666, \"#ed7953\"], [0.7777777777777778, \"#fb9f3a\"], [0.8888888888888888, \"#fdca26\"], [1.0, \"#f0f921\"]], \"type\": \"heatmapgl\"}], \"histogram\": [{\"marker\": {\"colorbar\": {\"outlinewidth\": 0, \"ticks\": \"\"}}, \"type\": \"histogram\"}], \"histogram2d\": [{\"colorbar\": {\"outlinewidth\": 0, \"ticks\": \"\"}, \"colorscale\": [[0.0, \"#0d0887\"], [0.1111111111111111, \"#46039f\"], [0.2222222222222222, \"#7201a8\"], [0.3333333333333333, \"#9c179e\"], [0.4444444444444444, \"#bd3786\"], [0.5555555555555556, \"#d8576b\"], [0.6666666666666666, \"#ed7953\"], [0.7777777777777778, \"#fb9f3a\"], [0.8888888888888888, \"#fdca26\"], [1.0, \"#f0f921\"]], \"type\": \"histogram2d\"}], \"histogram2dcontour\": [{\"colorbar\": {\"outlinewidth\": 0, \"ticks\": \"\"}, \"colorscale\": [[0.0, \"#0d0887\"], [0.1111111111111111, \"#46039f\"], [0.2222222222222222, \"#7201a8\"], [0.3333333333333333, \"#9c179e\"], [0.4444444444444444, \"#bd3786\"], [0.5555555555555556, \"#d8576b\"], [0.6666666666666666, \"#ed7953\"], [0.7777777777777778, \"#fb9f3a\"], [0.8888888888888888, \"#fdca26\"], [1.0, \"#f0f921\"]], \"type\": \"histogram2dcontour\"}], \"mesh3d\": [{\"colorbar\": {\"outlinewidth\": 0, \"ticks\": \"\"}, \"type\": \"mesh3d\"}], \"parcoords\": [{\"line\": {\"colorbar\": {\"outlinewidth\": 0, \"ticks\": \"\"}}, \"type\": \"parcoords\"}], \"pie\": [{\"automargin\": true, \"type\": \"pie\"}], \"scatter\": [{\"marker\": {\"colorbar\": {\"outlinewidth\": 0, \"ticks\": \"\"}}, \"type\": \"scatter\"}], \"scatter3d\": [{\"line\": {\"colorbar\": {\"outlinewidth\": 0, \"ticks\": \"\"}}, \"marker\": {\"colorbar\": {\"outlinewidth\": 0, \"ticks\": \"\"}}, \"type\": \"scatter3d\"}], \"scattercarpet\": [{\"marker\": {\"colorbar\": {\"outlinewidth\": 0, \"ticks\": \"\"}}, \"type\": \"scattercarpet\"}], \"scattergeo\": [{\"marker\": {\"colorbar\": {\"outlinewidth\": 0, \"ticks\": \"\"}}, \"type\": \"scattergeo\"}], \"scattergl\": [{\"marker\": {\"colorbar\": {\"outlinewidth\": 0, \"ticks\": \"\"}}, \"type\": \"scattergl\"}], \"scattermapbox\": [{\"marker\": {\"colorbar\": {\"outlinewidth\": 0, \"ticks\": \"\"}}, \"type\": \"scattermapbox\"}], \"scatterpolar\": [{\"marker\": {\"colorbar\": {\"outlinewidth\": 0, \"ticks\": \"\"}}, \"type\": \"scatterpolar\"}], \"scatterpolargl\": [{\"marker\": {\"colorbar\": {\"outlinewidth\": 0, \"ticks\": \"\"}}, \"type\": \"scatterpolargl\"}], \"scatterternary\": [{\"marker\": {\"colorbar\": {\"outlinewidth\": 0, \"ticks\": \"\"}}, \"type\": \"scatterternary\"}], \"surface\": [{\"colorbar\": {\"outlinewidth\": 0, \"ticks\": \"\"}, \"colorscale\": [[0.0, \"#0d0887\"], [0.1111111111111111, \"#46039f\"], [0.2222222222222222, \"#7201a8\"], [0.3333333333333333, \"#9c179e\"], [0.4444444444444444, \"#bd3786\"], [0.5555555555555556, \"#d8576b\"], [0.6666666666666666, \"#ed7953\"], [0.7777777777777778, \"#fb9f3a\"], [0.8888888888888888, \"#fdca26\"], [1.0, \"#f0f921\"]], \"type\": \"surface\"}], \"table\": [{\"cells\": {\"fill\": {\"color\": \"#EBF0F8\"}, \"line\": {\"color\": \"white\"}}, \"header\": {\"fill\": {\"color\": \"#C8D4E3\"}, \"line\": {\"color\": \"white\"}}, \"type\": \"table\"}]}, \"layout\": {\"annotationdefaults\": {\"arrowcolor\": \"#2a3f5f\", \"arrowhead\": 0, \"arrowwidth\": 1}, \"coloraxis\": {\"colorbar\": {\"outlinewidth\": 0, \"ticks\": \"\"}}, \"colorscale\": {\"diverging\": [[0, \"#8e0152\"], [0.1, \"#c51b7d\"], [0.2, \"#de77ae\"], [0.3, \"#f1b6da\"], [0.4, \"#fde0ef\"], [0.5, \"#f7f7f7\"], [0.6, \"#e6f5d0\"], [0.7, \"#b8e186\"], [0.8, \"#7fbc41\"], [0.9, \"#4d9221\"], [1, \"#276419\"]], \"sequential\": [[0.0, \"#0d0887\"], [0.1111111111111111, \"#46039f\"], [0.2222222222222222, \"#7201a8\"], [0.3333333333333333, \"#9c179e\"], [0.4444444444444444, \"#bd3786\"], [0.5555555555555556, \"#d8576b\"], [0.6666666666666666, \"#ed7953\"], [0.7777777777777778, \"#fb9f3a\"], [0.8888888888888888, \"#fdca26\"], [1.0, \"#f0f921\"]], \"sequentialminus\": [[0.0, \"#0d0887\"], [0.1111111111111111, \"#46039f\"], [0.2222222222222222, \"#7201a8\"], [0.3333333333333333, \"#9c179e\"], [0.4444444444444444, \"#bd3786\"], [0.5555555555555556, \"#d8576b\"], [0.6666666666666666, \"#ed7953\"], [0.7777777777777778, \"#fb9f3a\"], [0.8888888888888888, \"#fdca26\"], [1.0, \"#f0f921\"]]}, \"colorway\": [\"#636efa\", \"#EF553B\", \"#00cc96\", \"#ab63fa\", \"#FFA15A\", \"#19d3f3\", \"#FF6692\", \"#B6E880\", \"#FF97FF\", \"#FECB52\"], \"font\": {\"color\": \"#2a3f5f\"}, \"geo\": {\"bgcolor\": \"white\", \"lakecolor\": \"white\", \"landcolor\": \"#E5ECF6\", \"showlakes\": true, \"showland\": true, \"subunitcolor\": \"white\"}, \"hoverlabel\": {\"align\": \"left\"}, \"hovermode\": \"closest\", \"mapbox\": {\"style\": \"light\"}, \"paper_bgcolor\": \"white\", \"plot_bgcolor\": \"#E5ECF6\", \"polar\": {\"angularaxis\": {\"gridcolor\": \"white\", \"linecolor\": \"white\", \"ticks\": \"\"}, \"bgcolor\": \"#E5ECF6\", \"radialaxis\": {\"gridcolor\": \"white\", \"linecolor\": \"white\", \"ticks\": \"\"}}, \"scene\": {\"xaxis\": {\"backgroundcolor\": \"#E5ECF6\", \"gridcolor\": \"white\", \"gridwidth\": 2, \"linecolor\": \"white\", \"showbackground\": true, \"ticks\": \"\", \"zerolinecolor\": \"white\"}, \"yaxis\": {\"backgroundcolor\": \"#E5ECF6\", \"gridcolor\": \"white\", \"gridwidth\": 2, \"linecolor\": \"white\", \"showbackground\": true, \"ticks\": \"\", \"zerolinecolor\": \"white\"}, \"zaxis\": {\"backgroundcolor\": \"#E5ECF6\", \"gridcolor\": \"white\", \"gridwidth\": 2, \"linecolor\": \"white\", \"showbackground\": true, \"ticks\": \"\", \"zerolinecolor\": \"white\"}}, \"shapedefaults\": {\"line\": {\"color\": \"#2a3f5f\"}}, \"ternary\": {\"aaxis\": {\"gridcolor\": \"white\", \"linecolor\": \"white\", \"ticks\": \"\"}, \"baxis\": {\"gridcolor\": \"white\", \"linecolor\": \"white\", \"ticks\": \"\"}, \"bgcolor\": \"#E5ECF6\", \"caxis\": {\"gridcolor\": \"white\", \"linecolor\": \"white\", \"ticks\": \"\"}}, \"title\": {\"x\": 0.05}, \"xaxis\": {\"automargin\": true, \"gridcolor\": \"white\", \"linecolor\": \"white\", \"ticks\": \"\", \"title\": {\"standoff\": 15}, \"zerolinecolor\": \"white\", \"zerolinewidth\": 2}, \"yaxis\": {\"automargin\": true, \"gridcolor\": \"white\", \"linecolor\": \"white\", \"ticks\": \"\", \"title\": {\"standoff\": 15}, \"zerolinecolor\": \"white\", \"zerolinewidth\": 2}}}, \"xaxis\": {\"title\": {\"text\": \"Time (7AM to 6PM)\"}}, \"yaxis\": {\"title\": {\"text\": \"Day\"}}},\n",
       "                        {\"responsive\": true}\n",
       "                    ).then(function(){\n",
       "                            \n",
       "var gd = document.getElementById('6168d992-b4b3-4483-8fef-b1ec7dbbfdae');\n",
       "var x = new MutationObserver(function (mutations, observer) {{\n",
       "        var display = window.getComputedStyle(gd).display;\n",
       "        if (!display || display === 'none') {{\n",
       "            console.log([gd, 'removed!']);\n",
       "            Plotly.purge(gd);\n",
       "            observer.disconnect();\n",
       "        }}\n",
       "}});\n",
       "\n",
       "// Listen for the removal of the full notebook cells\n",
       "var notebookContainer = gd.closest('#notebook-container');\n",
       "if (notebookContainer) {{\n",
       "    x.observe(notebookContainer, {childList: true});\n",
       "}}\n",
       "\n",
       "// Listen for the clearing of the current output cell\n",
       "var outputEl = gd.closest('.output');\n",
       "if (outputEl) {{\n",
       "    x.observe(outputEl, {childList: true});\n",
       "}}\n",
       "\n",
       "                        })\n",
       "                };\n",
       "                });\n",
       "            </script>\n",
       "        </div>"
      ]
     },
     "metadata": {},
     "output_type": "display_data"
    }
   ],
   "source": [
    "fig1 = go.Figure(data=[go.Scatter(\n",
    "    x=final_data['Time'],\n",
    "    y=final_data['Day'],\n",
    "    mode='markers',\n",
    "    marker=dict(\n",
    "        size=final_data['call_id'],\n",
    "        sizemode='area',\n",
    "        sizeref= 4.*max(final_data['call_id'])/(25.**2),\n",
    "        sizemin=4)\n",
    ")])\n",
    "\n",
    "fig1.update_xaxes(title_text='Time (7AM to 6PM)')\n",
    "fig1.update_yaxes(title_text='Day')\n",
    "\n",
    "\n",
    "fig1.show()"
   ]
  },
  {
   "cell_type": "code",
   "execution_count": 109,
   "metadata": {},
   "outputs": [],
   "source": [
    "dataset_2 = pd.read_csv('call_log_export.csv')"
   ]
  },
  {
   "cell_type": "code",
   "execution_count": 110,
   "metadata": {},
   "outputs": [],
   "source": [
    "dataset_2_v2 = dataset_2[dataset_2['Start_Time'].notnull()]"
   ]
  },
  {
   "cell_type": "code",
   "execution_count": 111,
   "metadata": {},
   "outputs": [],
   "source": [
    "dicti_call_v2 = {'call':dataset_2_v2['call_id'],'Time':time_data['Hour']}"
   ]
  },
  {
   "cell_type": "code",
   "execution_count": 112,
   "metadata": {},
   "outputs": [],
   "source": [
    "Data_final_v2 = pd.DataFrame(data=dicti_call_v2)"
   ]
  },
  {
   "cell_type": "code",
   "execution_count": 113,
   "metadata": {},
   "outputs": [
    {
     "data": {
      "text/html": [
       "<div>\n",
       "<style scoped>\n",
       "    .dataframe tbody tr th:only-of-type {\n",
       "        vertical-align: middle;\n",
       "    }\n",
       "\n",
       "    .dataframe tbody tr th {\n",
       "        vertical-align: top;\n",
       "    }\n",
       "\n",
       "    .dataframe thead th {\n",
       "        text-align: right;\n",
       "    }\n",
       "</style>\n",
       "<table border=\"1\" class=\"dataframe\">\n",
       "  <thead>\n",
       "    <tr style=\"text-align: right;\">\n",
       "      <th></th>\n",
       "      <th>call</th>\n",
       "      <th>Time</th>\n",
       "    </tr>\n",
       "  </thead>\n",
       "  <tbody>\n",
       "    <tr>\n",
       "      <th>0</th>\n",
       "      <td>1</td>\n",
       "      <td>1.0</td>\n",
       "    </tr>\n",
       "    <tr>\n",
       "      <th>1</th>\n",
       "      <td>2</td>\n",
       "      <td>13.0</td>\n",
       "    </tr>\n",
       "    <tr>\n",
       "      <th>2</th>\n",
       "      <td>3</td>\n",
       "      <td>1.0</td>\n",
       "    </tr>\n",
       "    <tr>\n",
       "      <th>3</th>\n",
       "      <td>4</td>\n",
       "      <td>13.0</td>\n",
       "    </tr>\n",
       "    <tr>\n",
       "      <th>4</th>\n",
       "      <td>5</td>\n",
       "      <td>1.0</td>\n",
       "    </tr>\n",
       "    <tr>\n",
       "      <th>...</th>\n",
       "      <td>...</td>\n",
       "      <td>...</td>\n",
       "    </tr>\n",
       "    <tr>\n",
       "      <th>1435</th>\n",
       "      <td>1436</td>\n",
       "      <td>12.0</td>\n",
       "    </tr>\n",
       "    <tr>\n",
       "      <th>1436</th>\n",
       "      <td>1437</td>\n",
       "      <td>0.0</td>\n",
       "    </tr>\n",
       "    <tr>\n",
       "      <th>1437</th>\n",
       "      <td>1438</td>\n",
       "      <td>12.0</td>\n",
       "    </tr>\n",
       "    <tr>\n",
       "      <th>1438</th>\n",
       "      <td>1439</td>\n",
       "      <td>0.0</td>\n",
       "    </tr>\n",
       "    <tr>\n",
       "      <th>1439</th>\n",
       "      <td>1440</td>\n",
       "      <td>12.0</td>\n",
       "    </tr>\n",
       "  </tbody>\n",
       "</table>\n",
       "<p>1440 rows × 2 columns</p>\n",
       "</div>"
      ],
      "text/plain": [
       "      call  Time\n",
       "0        1   1.0\n",
       "1        2  13.0\n",
       "2        3   1.0\n",
       "3        4  13.0\n",
       "4        5   1.0\n",
       "...    ...   ...\n",
       "1435  1436  12.0\n",
       "1436  1437   0.0\n",
       "1437  1438  12.0\n",
       "1438  1439   0.0\n",
       "1439  1440  12.0\n",
       "\n",
       "[1440 rows x 2 columns]"
      ]
     },
     "execution_count": 113,
     "metadata": {},
     "output_type": "execute_result"
    }
   ],
   "source": [
    "second_data_v2 = Data_final_v2[Data_final_v2['Time'].notnull()]\n",
    "second_data_v2"
   ]
  },
  {
   "cell_type": "code",
   "execution_count": 114,
   "metadata": {},
   "outputs": [
    {
     "data": {
      "text/plain": [
       "<pandas.core.groupby.generic.DataFrameGroupBy object at 0x00000211AAB68710>"
      ]
     },
     "execution_count": 114,
     "metadata": {},
     "output_type": "execute_result"
    }
   ],
   "source": [
    "second_data_v2.groupby('Time')"
   ]
  },
  {
   "cell_type": "code",
   "execution_count": 115,
   "metadata": {},
   "outputs": [],
   "source": [
    "second_data_v3 = second_data_v2.groupby('Time')"
   ]
  },
  {
   "cell_type": "code",
   "execution_count": 116,
   "metadata": {},
   "outputs": [
    {
     "data": {
      "text/html": [
       "<div>\n",
       "<style scoped>\n",
       "    .dataframe tbody tr th:only-of-type {\n",
       "        vertical-align: middle;\n",
       "    }\n",
       "\n",
       "    .dataframe tbody tr th {\n",
       "        vertical-align: top;\n",
       "    }\n",
       "\n",
       "    .dataframe thead th {\n",
       "        text-align: right;\n",
       "    }\n",
       "</style>\n",
       "<table border=\"1\" class=\"dataframe\">\n",
       "  <thead>\n",
       "    <tr style=\"text-align: right;\">\n",
       "      <th></th>\n",
       "      <th>call</th>\n",
       "    </tr>\n",
       "    <tr>\n",
       "      <th>Time</th>\n",
       "      <th></th>\n",
       "    </tr>\n",
       "  </thead>\n",
       "  <tbody>\n",
       "    <tr>\n",
       "      <th>0.0</th>\n",
       "      <td>int64</td>\n",
       "    </tr>\n",
       "    <tr>\n",
       "      <th>1.0</th>\n",
       "      <td>int64</td>\n",
       "    </tr>\n",
       "    <tr>\n",
       "      <th>2.0</th>\n",
       "      <td>int64</td>\n",
       "    </tr>\n",
       "    <tr>\n",
       "      <th>3.0</th>\n",
       "      <td>int64</td>\n",
       "    </tr>\n",
       "    <tr>\n",
       "      <th>4.0</th>\n",
       "      <td>int64</td>\n",
       "    </tr>\n",
       "    <tr>\n",
       "      <th>5.0</th>\n",
       "      <td>int64</td>\n",
       "    </tr>\n",
       "    <tr>\n",
       "      <th>6.0</th>\n",
       "      <td>int64</td>\n",
       "    </tr>\n",
       "    <tr>\n",
       "      <th>7.0</th>\n",
       "      <td>int64</td>\n",
       "    </tr>\n",
       "    <tr>\n",
       "      <th>8.0</th>\n",
       "      <td>int64</td>\n",
       "    </tr>\n",
       "    <tr>\n",
       "      <th>9.0</th>\n",
       "      <td>int64</td>\n",
       "    </tr>\n",
       "    <tr>\n",
       "      <th>10.0</th>\n",
       "      <td>int64</td>\n",
       "    </tr>\n",
       "    <tr>\n",
       "      <th>11.0</th>\n",
       "      <td>int64</td>\n",
       "    </tr>\n",
       "    <tr>\n",
       "      <th>12.0</th>\n",
       "      <td>int64</td>\n",
       "    </tr>\n",
       "    <tr>\n",
       "      <th>13.0</th>\n",
       "      <td>int64</td>\n",
       "    </tr>\n",
       "    <tr>\n",
       "      <th>14.0</th>\n",
       "      <td>int64</td>\n",
       "    </tr>\n",
       "    <tr>\n",
       "      <th>15.0</th>\n",
       "      <td>int64</td>\n",
       "    </tr>\n",
       "    <tr>\n",
       "      <th>16.0</th>\n",
       "      <td>int64</td>\n",
       "    </tr>\n",
       "    <tr>\n",
       "      <th>17.0</th>\n",
       "      <td>int64</td>\n",
       "    </tr>\n",
       "    <tr>\n",
       "      <th>18.0</th>\n",
       "      <td>int64</td>\n",
       "    </tr>\n",
       "    <tr>\n",
       "      <th>19.0</th>\n",
       "      <td>int64</td>\n",
       "    </tr>\n",
       "    <tr>\n",
       "      <th>20.0</th>\n",
       "      <td>int64</td>\n",
       "    </tr>\n",
       "    <tr>\n",
       "      <th>21.0</th>\n",
       "      <td>int64</td>\n",
       "    </tr>\n",
       "    <tr>\n",
       "      <th>22.0</th>\n",
       "      <td>int64</td>\n",
       "    </tr>\n",
       "    <tr>\n",
       "      <th>23.0</th>\n",
       "      <td>int64</td>\n",
       "    </tr>\n",
       "  </tbody>\n",
       "</table>\n",
       "</div>"
      ],
      "text/plain": [
       "       call\n",
       "Time       \n",
       "0.0   int64\n",
       "1.0   int64\n",
       "2.0   int64\n",
       "3.0   int64\n",
       "4.0   int64\n",
       "5.0   int64\n",
       "6.0   int64\n",
       "7.0   int64\n",
       "8.0   int64\n",
       "9.0   int64\n",
       "10.0  int64\n",
       "11.0  int64\n",
       "12.0  int64\n",
       "13.0  int64\n",
       "14.0  int64\n",
       "15.0  int64\n",
       "16.0  int64\n",
       "17.0  int64\n",
       "18.0  int64\n",
       "19.0  int64\n",
       "20.0  int64\n",
       "21.0  int64\n",
       "22.0  int64\n",
       "23.0  int64"
      ]
     },
     "execution_count": 116,
     "metadata": {},
     "output_type": "execute_result"
    }
   ],
   "source": [
    "second_data_v4 = second_data_v3.sum()\n",
    "second_data_v3.dtypes"
   ]
  },
  {
   "cell_type": "code",
   "execution_count": 117,
   "metadata": {},
   "outputs": [],
   "source": [
    "second_data_v4.reset_index(inplace=True)"
   ]
  },
  {
   "cell_type": "code",
   "execution_count": 118,
   "metadata": {},
   "outputs": [],
   "source": [
    "second_data_v5 = second_data_v4[(second_data_v4['Time']>6)&(second_data_v4['Time']<19)]"
   ]
  },
  {
   "cell_type": "code",
   "execution_count": 119,
   "metadata": {},
   "outputs": [
    {
     "data": {
      "application/vnd.plotly.v1+json": {
       "config": {
        "plotlyServerURL": "https://plot.ly"
       },
       "data": [
        {
         "line": {
          "dash": "dash"
         },
         "marker": {
          "size": 10,
          "symbol": "circle"
         },
         "mode": "lines+markers",
         "type": "scatter",
         "x": [
          7,
          8,
          9,
          10,
          11,
          12,
          13,
          14,
          15,
          16,
          17,
          18
         ],
         "y": [
          46800,
          54000,
          61200,
          68400,
          75600,
          82860,
          3660,
          10860,
          18060,
          25260,
          32460,
          39660
         ]
        }
       ],
       "layout": {
        "template": {
         "data": {
          "bar": [
           {
            "error_x": {
             "color": "#2a3f5f"
            },
            "error_y": {
             "color": "#2a3f5f"
            },
            "marker": {
             "line": {
              "color": "#E5ECF6",
              "width": 0.5
             }
            },
            "type": "bar"
           }
          ],
          "barpolar": [
           {
            "marker": {
             "line": {
              "color": "#E5ECF6",
              "width": 0.5
             }
            },
            "type": "barpolar"
           }
          ],
          "carpet": [
           {
            "aaxis": {
             "endlinecolor": "#2a3f5f",
             "gridcolor": "white",
             "linecolor": "white",
             "minorgridcolor": "white",
             "startlinecolor": "#2a3f5f"
            },
            "baxis": {
             "endlinecolor": "#2a3f5f",
             "gridcolor": "white",
             "linecolor": "white",
             "minorgridcolor": "white",
             "startlinecolor": "#2a3f5f"
            },
            "type": "carpet"
           }
          ],
          "choropleth": [
           {
            "colorbar": {
             "outlinewidth": 0,
             "ticks": ""
            },
            "type": "choropleth"
           }
          ],
          "contour": [
           {
            "colorbar": {
             "outlinewidth": 0,
             "ticks": ""
            },
            "colorscale": [
             [
              0,
              "#0d0887"
             ],
             [
              0.1111111111111111,
              "#46039f"
             ],
             [
              0.2222222222222222,
              "#7201a8"
             ],
             [
              0.3333333333333333,
              "#9c179e"
             ],
             [
              0.4444444444444444,
              "#bd3786"
             ],
             [
              0.5555555555555556,
              "#d8576b"
             ],
             [
              0.6666666666666666,
              "#ed7953"
             ],
             [
              0.7777777777777778,
              "#fb9f3a"
             ],
             [
              0.8888888888888888,
              "#fdca26"
             ],
             [
              1,
              "#f0f921"
             ]
            ],
            "type": "contour"
           }
          ],
          "contourcarpet": [
           {
            "colorbar": {
             "outlinewidth": 0,
             "ticks": ""
            },
            "type": "contourcarpet"
           }
          ],
          "heatmap": [
           {
            "colorbar": {
             "outlinewidth": 0,
             "ticks": ""
            },
            "colorscale": [
             [
              0,
              "#0d0887"
             ],
             [
              0.1111111111111111,
              "#46039f"
             ],
             [
              0.2222222222222222,
              "#7201a8"
             ],
             [
              0.3333333333333333,
              "#9c179e"
             ],
             [
              0.4444444444444444,
              "#bd3786"
             ],
             [
              0.5555555555555556,
              "#d8576b"
             ],
             [
              0.6666666666666666,
              "#ed7953"
             ],
             [
              0.7777777777777778,
              "#fb9f3a"
             ],
             [
              0.8888888888888888,
              "#fdca26"
             ],
             [
              1,
              "#f0f921"
             ]
            ],
            "type": "heatmap"
           }
          ],
          "heatmapgl": [
           {
            "colorbar": {
             "outlinewidth": 0,
             "ticks": ""
            },
            "colorscale": [
             [
              0,
              "#0d0887"
             ],
             [
              0.1111111111111111,
              "#46039f"
             ],
             [
              0.2222222222222222,
              "#7201a8"
             ],
             [
              0.3333333333333333,
              "#9c179e"
             ],
             [
              0.4444444444444444,
              "#bd3786"
             ],
             [
              0.5555555555555556,
              "#d8576b"
             ],
             [
              0.6666666666666666,
              "#ed7953"
             ],
             [
              0.7777777777777778,
              "#fb9f3a"
             ],
             [
              0.8888888888888888,
              "#fdca26"
             ],
             [
              1,
              "#f0f921"
             ]
            ],
            "type": "heatmapgl"
           }
          ],
          "histogram": [
           {
            "marker": {
             "colorbar": {
              "outlinewidth": 0,
              "ticks": ""
             }
            },
            "type": "histogram"
           }
          ],
          "histogram2d": [
           {
            "colorbar": {
             "outlinewidth": 0,
             "ticks": ""
            },
            "colorscale": [
             [
              0,
              "#0d0887"
             ],
             [
              0.1111111111111111,
              "#46039f"
             ],
             [
              0.2222222222222222,
              "#7201a8"
             ],
             [
              0.3333333333333333,
              "#9c179e"
             ],
             [
              0.4444444444444444,
              "#bd3786"
             ],
             [
              0.5555555555555556,
              "#d8576b"
             ],
             [
              0.6666666666666666,
              "#ed7953"
             ],
             [
              0.7777777777777778,
              "#fb9f3a"
             ],
             [
              0.8888888888888888,
              "#fdca26"
             ],
             [
              1,
              "#f0f921"
             ]
            ],
            "type": "histogram2d"
           }
          ],
          "histogram2dcontour": [
           {
            "colorbar": {
             "outlinewidth": 0,
             "ticks": ""
            },
            "colorscale": [
             [
              0,
              "#0d0887"
             ],
             [
              0.1111111111111111,
              "#46039f"
             ],
             [
              0.2222222222222222,
              "#7201a8"
             ],
             [
              0.3333333333333333,
              "#9c179e"
             ],
             [
              0.4444444444444444,
              "#bd3786"
             ],
             [
              0.5555555555555556,
              "#d8576b"
             ],
             [
              0.6666666666666666,
              "#ed7953"
             ],
             [
              0.7777777777777778,
              "#fb9f3a"
             ],
             [
              0.8888888888888888,
              "#fdca26"
             ],
             [
              1,
              "#f0f921"
             ]
            ],
            "type": "histogram2dcontour"
           }
          ],
          "mesh3d": [
           {
            "colorbar": {
             "outlinewidth": 0,
             "ticks": ""
            },
            "type": "mesh3d"
           }
          ],
          "parcoords": [
           {
            "line": {
             "colorbar": {
              "outlinewidth": 0,
              "ticks": ""
             }
            },
            "type": "parcoords"
           }
          ],
          "pie": [
           {
            "automargin": true,
            "type": "pie"
           }
          ],
          "scatter": [
           {
            "marker": {
             "colorbar": {
              "outlinewidth": 0,
              "ticks": ""
             }
            },
            "type": "scatter"
           }
          ],
          "scatter3d": [
           {
            "line": {
             "colorbar": {
              "outlinewidth": 0,
              "ticks": ""
             }
            },
            "marker": {
             "colorbar": {
              "outlinewidth": 0,
              "ticks": ""
             }
            },
            "type": "scatter3d"
           }
          ],
          "scattercarpet": [
           {
            "marker": {
             "colorbar": {
              "outlinewidth": 0,
              "ticks": ""
             }
            },
            "type": "scattercarpet"
           }
          ],
          "scattergeo": [
           {
            "marker": {
             "colorbar": {
              "outlinewidth": 0,
              "ticks": ""
             }
            },
            "type": "scattergeo"
           }
          ],
          "scattergl": [
           {
            "marker": {
             "colorbar": {
              "outlinewidth": 0,
              "ticks": ""
             }
            },
            "type": "scattergl"
           }
          ],
          "scattermapbox": [
           {
            "marker": {
             "colorbar": {
              "outlinewidth": 0,
              "ticks": ""
             }
            },
            "type": "scattermapbox"
           }
          ],
          "scatterpolar": [
           {
            "marker": {
             "colorbar": {
              "outlinewidth": 0,
              "ticks": ""
             }
            },
            "type": "scatterpolar"
           }
          ],
          "scatterpolargl": [
           {
            "marker": {
             "colorbar": {
              "outlinewidth": 0,
              "ticks": ""
             }
            },
            "type": "scatterpolargl"
           }
          ],
          "scatterternary": [
           {
            "marker": {
             "colorbar": {
              "outlinewidth": 0,
              "ticks": ""
             }
            },
            "type": "scatterternary"
           }
          ],
          "surface": [
           {
            "colorbar": {
             "outlinewidth": 0,
             "ticks": ""
            },
            "colorscale": [
             [
              0,
              "#0d0887"
             ],
             [
              0.1111111111111111,
              "#46039f"
             ],
             [
              0.2222222222222222,
              "#7201a8"
             ],
             [
              0.3333333333333333,
              "#9c179e"
             ],
             [
              0.4444444444444444,
              "#bd3786"
             ],
             [
              0.5555555555555556,
              "#d8576b"
             ],
             [
              0.6666666666666666,
              "#ed7953"
             ],
             [
              0.7777777777777778,
              "#fb9f3a"
             ],
             [
              0.8888888888888888,
              "#fdca26"
             ],
             [
              1,
              "#f0f921"
             ]
            ],
            "type": "surface"
           }
          ],
          "table": [
           {
            "cells": {
             "fill": {
              "color": "#EBF0F8"
             },
             "line": {
              "color": "white"
             }
            },
            "header": {
             "fill": {
              "color": "#C8D4E3"
             },
             "line": {
              "color": "white"
             }
            },
            "type": "table"
           }
          ]
         },
         "layout": {
          "annotationdefaults": {
           "arrowcolor": "#2a3f5f",
           "arrowhead": 0,
           "arrowwidth": 1
          },
          "coloraxis": {
           "colorbar": {
            "outlinewidth": 0,
            "ticks": ""
           }
          },
          "colorscale": {
           "diverging": [
            [
             0,
             "#8e0152"
            ],
            [
             0.1,
             "#c51b7d"
            ],
            [
             0.2,
             "#de77ae"
            ],
            [
             0.3,
             "#f1b6da"
            ],
            [
             0.4,
             "#fde0ef"
            ],
            [
             0.5,
             "#f7f7f7"
            ],
            [
             0.6,
             "#e6f5d0"
            ],
            [
             0.7,
             "#b8e186"
            ],
            [
             0.8,
             "#7fbc41"
            ],
            [
             0.9,
             "#4d9221"
            ],
            [
             1,
             "#276419"
            ]
           ],
           "sequential": [
            [
             0,
             "#0d0887"
            ],
            [
             0.1111111111111111,
             "#46039f"
            ],
            [
             0.2222222222222222,
             "#7201a8"
            ],
            [
             0.3333333333333333,
             "#9c179e"
            ],
            [
             0.4444444444444444,
             "#bd3786"
            ],
            [
             0.5555555555555556,
             "#d8576b"
            ],
            [
             0.6666666666666666,
             "#ed7953"
            ],
            [
             0.7777777777777778,
             "#fb9f3a"
            ],
            [
             0.8888888888888888,
             "#fdca26"
            ],
            [
             1,
             "#f0f921"
            ]
           ],
           "sequentialminus": [
            [
             0,
             "#0d0887"
            ],
            [
             0.1111111111111111,
             "#46039f"
            ],
            [
             0.2222222222222222,
             "#7201a8"
            ],
            [
             0.3333333333333333,
             "#9c179e"
            ],
            [
             0.4444444444444444,
             "#bd3786"
            ],
            [
             0.5555555555555556,
             "#d8576b"
            ],
            [
             0.6666666666666666,
             "#ed7953"
            ],
            [
             0.7777777777777778,
             "#fb9f3a"
            ],
            [
             0.8888888888888888,
             "#fdca26"
            ],
            [
             1,
             "#f0f921"
            ]
           ]
          },
          "colorway": [
           "#636efa",
           "#EF553B",
           "#00cc96",
           "#ab63fa",
           "#FFA15A",
           "#19d3f3",
           "#FF6692",
           "#B6E880",
           "#FF97FF",
           "#FECB52"
          ],
          "font": {
           "color": "#2a3f5f"
          },
          "geo": {
           "bgcolor": "white",
           "lakecolor": "white",
           "landcolor": "#E5ECF6",
           "showlakes": true,
           "showland": true,
           "subunitcolor": "white"
          },
          "hoverlabel": {
           "align": "left"
          },
          "hovermode": "closest",
          "mapbox": {
           "style": "light"
          },
          "paper_bgcolor": "white",
          "plot_bgcolor": "#E5ECF6",
          "polar": {
           "angularaxis": {
            "gridcolor": "white",
            "linecolor": "white",
            "ticks": ""
           },
           "bgcolor": "#E5ECF6",
           "radialaxis": {
            "gridcolor": "white",
            "linecolor": "white",
            "ticks": ""
           }
          },
          "scene": {
           "xaxis": {
            "backgroundcolor": "#E5ECF6",
            "gridcolor": "white",
            "gridwidth": 2,
            "linecolor": "white",
            "showbackground": true,
            "ticks": "",
            "zerolinecolor": "white"
           },
           "yaxis": {
            "backgroundcolor": "#E5ECF6",
            "gridcolor": "white",
            "gridwidth": 2,
            "linecolor": "white",
            "showbackground": true,
            "ticks": "",
            "zerolinecolor": "white"
           },
           "zaxis": {
            "backgroundcolor": "#E5ECF6",
            "gridcolor": "white",
            "gridwidth": 2,
            "linecolor": "white",
            "showbackground": true,
            "ticks": "",
            "zerolinecolor": "white"
           }
          },
          "shapedefaults": {
           "line": {
            "color": "#2a3f5f"
           }
          },
          "ternary": {
           "aaxis": {
            "gridcolor": "white",
            "linecolor": "white",
            "ticks": ""
           },
           "baxis": {
            "gridcolor": "white",
            "linecolor": "white",
            "ticks": ""
           },
           "bgcolor": "#E5ECF6",
           "caxis": {
            "gridcolor": "white",
            "linecolor": "white",
            "ticks": ""
           }
          },
          "title": {
           "x": 0.05
          },
          "xaxis": {
           "automargin": true,
           "gridcolor": "white",
           "linecolor": "white",
           "ticks": "",
           "title": {
            "standoff": 15
           },
           "zerolinecolor": "white",
           "zerolinewidth": 2
          },
          "yaxis": {
           "automargin": true,
           "gridcolor": "white",
           "linecolor": "white",
           "ticks": "",
           "title": {
            "standoff": 15
           },
           "zerolinecolor": "white",
           "zerolinewidth": 2
          }
         }
        },
        "xaxis": {
         "title": {
          "text": "Time (7AM to 6PM)"
         }
        },
        "yaxis": {
         "title": {
          "text": "# Of Calls"
         }
        }
       }
      },
      "text/html": [
       "<div>\n",
       "        \n",
       "        \n",
       "            <div id=\"dc596fa2-372c-4524-8f25-cded5b1477a3\" class=\"plotly-graph-div\" style=\"height:525px; width:100%;\"></div>\n",
       "            <script type=\"text/javascript\">\n",
       "                require([\"plotly\"], function(Plotly) {\n",
       "                    window.PLOTLYENV=window.PLOTLYENV || {};\n",
       "                    \n",
       "                if (document.getElementById(\"dc596fa2-372c-4524-8f25-cded5b1477a3\")) {\n",
       "                    Plotly.newPlot(\n",
       "                        'dc596fa2-372c-4524-8f25-cded5b1477a3',\n",
       "                        [{\"line\": {\"dash\": \"dash\"}, \"marker\": {\"size\": 10, \"symbol\": \"circle\"}, \"mode\": \"lines+markers\", \"type\": \"scatter\", \"x\": [7.0, 8.0, 9.0, 10.0, 11.0, 12.0, 13.0, 14.0, 15.0, 16.0, 17.0, 18.0], \"y\": [46800, 54000, 61200, 68400, 75600, 82860, 3660, 10860, 18060, 25260, 32460, 39660]}],\n",
       "                        {\"template\": {\"data\": {\"bar\": [{\"error_x\": {\"color\": \"#2a3f5f\"}, \"error_y\": {\"color\": \"#2a3f5f\"}, \"marker\": {\"line\": {\"color\": \"#E5ECF6\", \"width\": 0.5}}, \"type\": \"bar\"}], \"barpolar\": [{\"marker\": {\"line\": {\"color\": \"#E5ECF6\", \"width\": 0.5}}, \"type\": \"barpolar\"}], \"carpet\": [{\"aaxis\": {\"endlinecolor\": \"#2a3f5f\", \"gridcolor\": \"white\", \"linecolor\": \"white\", \"minorgridcolor\": \"white\", \"startlinecolor\": \"#2a3f5f\"}, \"baxis\": {\"endlinecolor\": \"#2a3f5f\", \"gridcolor\": \"white\", \"linecolor\": \"white\", \"minorgridcolor\": \"white\", \"startlinecolor\": \"#2a3f5f\"}, \"type\": \"carpet\"}], \"choropleth\": [{\"colorbar\": {\"outlinewidth\": 0, \"ticks\": \"\"}, \"type\": \"choropleth\"}], \"contour\": [{\"colorbar\": {\"outlinewidth\": 0, \"ticks\": \"\"}, \"colorscale\": [[0.0, \"#0d0887\"], [0.1111111111111111, \"#46039f\"], [0.2222222222222222, \"#7201a8\"], [0.3333333333333333, \"#9c179e\"], [0.4444444444444444, \"#bd3786\"], [0.5555555555555556, \"#d8576b\"], [0.6666666666666666, \"#ed7953\"], [0.7777777777777778, \"#fb9f3a\"], [0.8888888888888888, \"#fdca26\"], [1.0, \"#f0f921\"]], \"type\": \"contour\"}], \"contourcarpet\": [{\"colorbar\": {\"outlinewidth\": 0, \"ticks\": \"\"}, \"type\": \"contourcarpet\"}], \"heatmap\": [{\"colorbar\": {\"outlinewidth\": 0, \"ticks\": \"\"}, \"colorscale\": [[0.0, \"#0d0887\"], [0.1111111111111111, \"#46039f\"], [0.2222222222222222, \"#7201a8\"], [0.3333333333333333, \"#9c179e\"], [0.4444444444444444, \"#bd3786\"], [0.5555555555555556, \"#d8576b\"], [0.6666666666666666, \"#ed7953\"], [0.7777777777777778, \"#fb9f3a\"], [0.8888888888888888, \"#fdca26\"], [1.0, \"#f0f921\"]], \"type\": \"heatmap\"}], \"heatmapgl\": [{\"colorbar\": {\"outlinewidth\": 0, \"ticks\": \"\"}, \"colorscale\": [[0.0, \"#0d0887\"], [0.1111111111111111, \"#46039f\"], [0.2222222222222222, \"#7201a8\"], [0.3333333333333333, \"#9c179e\"], [0.4444444444444444, \"#bd3786\"], [0.5555555555555556, \"#d8576b\"], [0.6666666666666666, \"#ed7953\"], [0.7777777777777778, \"#fb9f3a\"], [0.8888888888888888, \"#fdca26\"], [1.0, \"#f0f921\"]], \"type\": \"heatmapgl\"}], \"histogram\": [{\"marker\": {\"colorbar\": {\"outlinewidth\": 0, \"ticks\": \"\"}}, \"type\": \"histogram\"}], \"histogram2d\": [{\"colorbar\": {\"outlinewidth\": 0, \"ticks\": \"\"}, \"colorscale\": [[0.0, \"#0d0887\"], [0.1111111111111111, \"#46039f\"], [0.2222222222222222, \"#7201a8\"], [0.3333333333333333, \"#9c179e\"], [0.4444444444444444, \"#bd3786\"], [0.5555555555555556, \"#d8576b\"], [0.6666666666666666, \"#ed7953\"], [0.7777777777777778, \"#fb9f3a\"], [0.8888888888888888, \"#fdca26\"], [1.0, \"#f0f921\"]], \"type\": \"histogram2d\"}], \"histogram2dcontour\": [{\"colorbar\": {\"outlinewidth\": 0, \"ticks\": \"\"}, \"colorscale\": [[0.0, \"#0d0887\"], [0.1111111111111111, \"#46039f\"], [0.2222222222222222, \"#7201a8\"], [0.3333333333333333, \"#9c179e\"], [0.4444444444444444, \"#bd3786\"], [0.5555555555555556, \"#d8576b\"], [0.6666666666666666, \"#ed7953\"], [0.7777777777777778, \"#fb9f3a\"], [0.8888888888888888, \"#fdca26\"], [1.0, \"#f0f921\"]], \"type\": \"histogram2dcontour\"}], \"mesh3d\": [{\"colorbar\": {\"outlinewidth\": 0, \"ticks\": \"\"}, \"type\": \"mesh3d\"}], \"parcoords\": [{\"line\": {\"colorbar\": {\"outlinewidth\": 0, \"ticks\": \"\"}}, \"type\": \"parcoords\"}], \"pie\": [{\"automargin\": true, \"type\": \"pie\"}], \"scatter\": [{\"marker\": {\"colorbar\": {\"outlinewidth\": 0, \"ticks\": \"\"}}, \"type\": \"scatter\"}], \"scatter3d\": [{\"line\": {\"colorbar\": {\"outlinewidth\": 0, \"ticks\": \"\"}}, \"marker\": {\"colorbar\": {\"outlinewidth\": 0, \"ticks\": \"\"}}, \"type\": \"scatter3d\"}], \"scattercarpet\": [{\"marker\": {\"colorbar\": {\"outlinewidth\": 0, \"ticks\": \"\"}}, \"type\": \"scattercarpet\"}], \"scattergeo\": [{\"marker\": {\"colorbar\": {\"outlinewidth\": 0, \"ticks\": \"\"}}, \"type\": \"scattergeo\"}], \"scattergl\": [{\"marker\": {\"colorbar\": {\"outlinewidth\": 0, \"ticks\": \"\"}}, \"type\": \"scattergl\"}], \"scattermapbox\": [{\"marker\": {\"colorbar\": {\"outlinewidth\": 0, \"ticks\": \"\"}}, \"type\": \"scattermapbox\"}], \"scatterpolar\": [{\"marker\": {\"colorbar\": {\"outlinewidth\": 0, \"ticks\": \"\"}}, \"type\": \"scatterpolar\"}], \"scatterpolargl\": [{\"marker\": {\"colorbar\": {\"outlinewidth\": 0, \"ticks\": \"\"}}, \"type\": \"scatterpolargl\"}], \"scatterternary\": [{\"marker\": {\"colorbar\": {\"outlinewidth\": 0, \"ticks\": \"\"}}, \"type\": \"scatterternary\"}], \"surface\": [{\"colorbar\": {\"outlinewidth\": 0, \"ticks\": \"\"}, \"colorscale\": [[0.0, \"#0d0887\"], [0.1111111111111111, \"#46039f\"], [0.2222222222222222, \"#7201a8\"], [0.3333333333333333, \"#9c179e\"], [0.4444444444444444, \"#bd3786\"], [0.5555555555555556, \"#d8576b\"], [0.6666666666666666, \"#ed7953\"], [0.7777777777777778, \"#fb9f3a\"], [0.8888888888888888, \"#fdca26\"], [1.0, \"#f0f921\"]], \"type\": \"surface\"}], \"table\": [{\"cells\": {\"fill\": {\"color\": \"#EBF0F8\"}, \"line\": {\"color\": \"white\"}}, \"header\": {\"fill\": {\"color\": \"#C8D4E3\"}, \"line\": {\"color\": \"white\"}}, \"type\": \"table\"}]}, \"layout\": {\"annotationdefaults\": {\"arrowcolor\": \"#2a3f5f\", \"arrowhead\": 0, \"arrowwidth\": 1}, \"coloraxis\": {\"colorbar\": {\"outlinewidth\": 0, \"ticks\": \"\"}}, \"colorscale\": {\"diverging\": [[0, \"#8e0152\"], [0.1, \"#c51b7d\"], [0.2, \"#de77ae\"], [0.3, \"#f1b6da\"], [0.4, \"#fde0ef\"], [0.5, \"#f7f7f7\"], [0.6, \"#e6f5d0\"], [0.7, \"#b8e186\"], [0.8, \"#7fbc41\"], [0.9, \"#4d9221\"], [1, \"#276419\"]], \"sequential\": [[0.0, \"#0d0887\"], [0.1111111111111111, \"#46039f\"], [0.2222222222222222, \"#7201a8\"], [0.3333333333333333, \"#9c179e\"], [0.4444444444444444, \"#bd3786\"], [0.5555555555555556, \"#d8576b\"], [0.6666666666666666, \"#ed7953\"], [0.7777777777777778, \"#fb9f3a\"], [0.8888888888888888, \"#fdca26\"], [1.0, \"#f0f921\"]], \"sequentialminus\": [[0.0, \"#0d0887\"], [0.1111111111111111, \"#46039f\"], [0.2222222222222222, \"#7201a8\"], [0.3333333333333333, \"#9c179e\"], [0.4444444444444444, \"#bd3786\"], [0.5555555555555556, \"#d8576b\"], [0.6666666666666666, \"#ed7953\"], [0.7777777777777778, \"#fb9f3a\"], [0.8888888888888888, \"#fdca26\"], [1.0, \"#f0f921\"]]}, \"colorway\": [\"#636efa\", \"#EF553B\", \"#00cc96\", \"#ab63fa\", \"#FFA15A\", \"#19d3f3\", \"#FF6692\", \"#B6E880\", \"#FF97FF\", \"#FECB52\"], \"font\": {\"color\": \"#2a3f5f\"}, \"geo\": {\"bgcolor\": \"white\", \"lakecolor\": \"white\", \"landcolor\": \"#E5ECF6\", \"showlakes\": true, \"showland\": true, \"subunitcolor\": \"white\"}, \"hoverlabel\": {\"align\": \"left\"}, \"hovermode\": \"closest\", \"mapbox\": {\"style\": \"light\"}, \"paper_bgcolor\": \"white\", \"plot_bgcolor\": \"#E5ECF6\", \"polar\": {\"angularaxis\": {\"gridcolor\": \"white\", \"linecolor\": \"white\", \"ticks\": \"\"}, \"bgcolor\": \"#E5ECF6\", \"radialaxis\": {\"gridcolor\": \"white\", \"linecolor\": \"white\", \"ticks\": \"\"}}, \"scene\": {\"xaxis\": {\"backgroundcolor\": \"#E5ECF6\", \"gridcolor\": \"white\", \"gridwidth\": 2, \"linecolor\": \"white\", \"showbackground\": true, \"ticks\": \"\", \"zerolinecolor\": \"white\"}, \"yaxis\": {\"backgroundcolor\": \"#E5ECF6\", \"gridcolor\": \"white\", \"gridwidth\": 2, \"linecolor\": \"white\", \"showbackground\": true, \"ticks\": \"\", \"zerolinecolor\": \"white\"}, \"zaxis\": {\"backgroundcolor\": \"#E5ECF6\", \"gridcolor\": \"white\", \"gridwidth\": 2, \"linecolor\": \"white\", \"showbackground\": true, \"ticks\": \"\", \"zerolinecolor\": \"white\"}}, \"shapedefaults\": {\"line\": {\"color\": \"#2a3f5f\"}}, \"ternary\": {\"aaxis\": {\"gridcolor\": \"white\", \"linecolor\": \"white\", \"ticks\": \"\"}, \"baxis\": {\"gridcolor\": \"white\", \"linecolor\": \"white\", \"ticks\": \"\"}, \"bgcolor\": \"#E5ECF6\", \"caxis\": {\"gridcolor\": \"white\", \"linecolor\": \"white\", \"ticks\": \"\"}}, \"title\": {\"x\": 0.05}, \"xaxis\": {\"automargin\": true, \"gridcolor\": \"white\", \"linecolor\": \"white\", \"ticks\": \"\", \"title\": {\"standoff\": 15}, \"zerolinecolor\": \"white\", \"zerolinewidth\": 2}, \"yaxis\": {\"automargin\": true, \"gridcolor\": \"white\", \"linecolor\": \"white\", \"ticks\": \"\", \"title\": {\"standoff\": 15}, \"zerolinecolor\": \"white\", \"zerolinewidth\": 2}}}, \"xaxis\": {\"title\": {\"text\": \"Time (7AM to 6PM)\"}}, \"yaxis\": {\"title\": {\"text\": \"# Of Calls\"}}},\n",
       "                        {\"responsive\": true}\n",
       "                    ).then(function(){\n",
       "                            \n",
       "var gd = document.getElementById('dc596fa2-372c-4524-8f25-cded5b1477a3');\n",
       "var x = new MutationObserver(function (mutations, observer) {{\n",
       "        var display = window.getComputedStyle(gd).display;\n",
       "        if (!display || display === 'none') {{\n",
       "            console.log([gd, 'removed!']);\n",
       "            Plotly.purge(gd);\n",
       "            observer.disconnect();\n",
       "        }}\n",
       "}});\n",
       "\n",
       "// Listen for the removal of the full notebook cells\n",
       "var notebookContainer = gd.closest('#notebook-container');\n",
       "if (notebookContainer) {{\n",
       "    x.observe(notebookContainer, {childList: true});\n",
       "}}\n",
       "\n",
       "// Listen for the clearing of the current output cell\n",
       "var outputEl = gd.closest('.output');\n",
       "if (outputEl) {{\n",
       "    x.observe(outputEl, {childList: true});\n",
       "}}\n",
       "\n",
       "                        })\n",
       "                };\n",
       "                });\n",
       "            </script>\n",
       "        </div>"
      ]
     },
     "metadata": {},
     "output_type": "display_data"
    }
   ],
   "source": [
    "fig = go.Figure(data=go.Scatter(x=second_data_v5['Time'],\n",
    "                                y=second_data_v5['call'],\n",
    "                                mode='lines+markers',\n",
    "                                marker_symbol='circle',\n",
    "                                marker=dict(size=10),\n",
    "                                line=dict(dash='dash')))\n",
    "\n",
    "\n",
    "fig.update_xaxes(title_text='Time (7AM to 6PM)')\n",
    "fig.update_yaxes(title_text='# Of Calls')\n",
    "\n",
    "fig.show()"
   ]
  },
  {
   "cell_type": "code",
   "execution_count": 120,
   "metadata": {},
   "outputs": [],
   "source": [
    "pio.write_html(fig1, file='chart1.html', auto_open=True)\n",
    "pio.write_html(fig, file='chart2.html', auto_open=True)"
   ]
  },
  {
   "cell_type": "code",
   "execution_count": 124,
   "metadata": {},
   "outputs": [],
   "source": [
    "username='tintlbiz123'\n",
    "api_key='WpuYXQcsgnTqPVsNB4GN'\n",
    "chart_studio.tools.set_credentials_file(username=username, api_key=api_key)"
   ]
  },
  {
   "cell_type": "code",
   "execution_count": 126,
   "metadata": {},
   "outputs": [
    {
     "data": {
      "text/plain": [
       "'https://plot.ly/~tintlbiz123/10/'"
      ]
     },
     "execution_count": 126,
     "metadata": {},
     "output_type": "execute_result"
    }
   ],
   "source": [
    "py.plot(fig1, filename = 'chart1_bubble', auto_open=True)\n",
    "py.plot(fig, filename = 'chart2_line', auto_open=True)"
   ]
  },
  {
   "cell_type": "code",
   "execution_count": 128,
   "metadata": {},
   "outputs": [
    {
     "data": {
      "text/plain": [
       "'<iframe id=\"igraph\" scrolling=\"no\" style=\"border:none;\" seamless=\"seamless\" src=\"https://plot.ly/~tintlbiz123/8.embed\" height=\"525\" width=\"100%\"></iframe>'"
      ]
     },
     "execution_count": 128,
     "metadata": {},
     "output_type": "execute_result"
    }
   ],
   "source": [
    "tls.get_embed('https://plot.ly/~tintlbiz123/8/#/') \n"
   ]
  },
  {
   "cell_type": "code",
   "execution_count": 129,
   "metadata": {},
   "outputs": [
    {
     "data": {
      "text/plain": [
       "'<iframe id=\"igraph\" scrolling=\"no\" style=\"border:none;\" seamless=\"seamless\" src=\"https://plot.ly/~tintlbiz123/10.embed\" height=\"525\" width=\"100%\"></iframe>'"
      ]
     },
     "execution_count": 129,
     "metadata": {},
     "output_type": "execute_result"
    }
   ],
   "source": [
    "tls.get_embed('https://plot.ly/~tintlbiz123/10/#/') "
   ]
  },
  {
   "cell_type": "code",
   "execution_count": null,
   "metadata": {},
   "outputs": [],
   "source": []
  }
 ],
 "metadata": {
  "kernelspec": {
   "display_name": "Python 3",
   "language": "python",
   "name": "python3"
  },
  "language_info": {
   "codemirror_mode": {
    "name": "ipython",
    "version": 3
   },
   "file_extension": ".py",
   "mimetype": "text/x-python",
   "name": "python",
   "nbconvert_exporter": "python",
   "pygments_lexer": "ipython3",
   "version": "3.7.0"
  }
 },
 "nbformat": 4,
 "nbformat_minor": 4
}
